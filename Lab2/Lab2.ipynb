{
  "nbformat": 4,
  "nbformat_minor": 0,
  "metadata": {
    "colab": {
      "name": "Lab2.ipynb",
      "provenance": [],
      "collapsed_sections": []
    },
    "kernelspec": {
      "name": "python3",
      "display_name": "Python 3"
    },
    "language_info": {
      "name": "python"
    }
  },
  "cells": [
    {
      "cell_type": "markdown",
      "source": [
        ""
      ],
      "metadata": {
        "id": "FfiQ4uWF2mnK"
      }
    },
    {
      "cell_type": "markdown",
      "source": [
        "#Лабораторная работа №2\n",
        "##Выполнила студентка группы БВТ2001 Ильинская Вера Алексеевна"
      ],
      "metadata": {
        "id": "ces8TJoF23xt"
      }
    },
    {
      "cell_type": "markdown",
      "source": [
        "###Задание №1. Реализовать методы поиска "
      ],
      "metadata": {
        "id": "oTdPC7jQ3Png"
      }
    },
    {
      "cell_type": "markdown",
      "source": [
        "####Генерацию начального набора случайных данных"
      ],
      "metadata": {
        "id": "3Jjm5TOz33oZ"
      }
    },
    {
      "cell_type": "code",
      "source": [
        "from random import randint\n",
        "\n",
        "m = int (input(\"Введите количество цифр в наборе случайных данных: \") or 10) \n",
        "min_limit = int (input(\"Введите минимальное значение чисел: \") \n",
        "                 or -10)\n",
        "max_limit = int (input(\"Введите максимальное значение чисел: \") \n",
        "                 or 10)\n",
        "\n",
        "mas = []\n",
        "for i in range (0, m): \n",
        "    mas.append(randint(min_limit, max_limit)) #создание пустой строки и её присоединение к концу массива\n",
        "\n",
        "print(\"\\nНачальный набор случайных данных: \")\n",
        "print(mas)\n",
        "\n",
        "user_num = int (input(\"\\nВведите число, которое вы хотите найти в наборе случайных данных: \"))"
      ],
      "metadata": {
        "colab": {
          "base_uri": "https://localhost:8080/"
        },
        "id": "1twovF3C4BoU",
        "outputId": "b2433e0f-820e-4759-d3af-8c93898a00e9"
      },
      "execution_count": 16,
      "outputs": [
        {
          "name": "stdout",
          "output_type": "stream",
          "text": [
            "Введите количество цифр в наборе случайных данных: 10\n",
            "Введите минимальное значение чисел: -10\n",
            "Введите максимальное значение чисел: 10\n",
            "\n",
            "Начальный набор случайных данных: \n",
            "[10, 3, -9, 7, 9, -2, -3, 2, 1, -4]\n",
            "\n",
            "Введите число, которое вы хотите найти в наборе случайных данных: -9\n"
          ]
        }
      ]
    },
    {
      "cell_type": "markdown",
      "source": [
        "####Метод бинарного поиска"
      ],
      "metadata": {
        "id": "TDBZmYYk7u2w"
      }
    },
    {
      "cell_type": "code",
      "source": [
        "#метод деления пополам\n",
        "def Bin_search(mas, user_num):\n",
        "\n",
        "  sort_mas = sorted(mas)\n",
        "  if (user_num not in mas):\n",
        "    return -1\n",
        "  else:\n",
        "    min_ind = 0\n",
        "    max_ind = len(mas)\n",
        "\n",
        "    while (True):\n",
        "      mid = (min_ind + max_ind)//2\n",
        "      if (sort_mas[mid] < user_num):\n",
        "        min_ind = mid + 1\n",
        "      if (sort_mas[mid] > user_num):\n",
        "        max_ind = mid - 1\n",
        "      if (sort_mas[mid] == user_num):\n",
        "        return (min_ind + max_ind)//2\n",
        "\n",
        "sort_mas = sorted(mas)\n",
        "print(\"Отсортированный набор случайных данных:\")\n",
        "print(sort_mas)\n",
        "print(f\"\\nПозиция нужного вам числа: {Bin_search(mas, user_num)}\")"
      ],
      "metadata": {
        "colab": {
          "base_uri": "https://localhost:8080/"
        },
        "id": "nJRbY5lt70bA",
        "outputId": "c214d59c-ce9d-4b35-9bef-d56f0237548a"
      },
      "execution_count": 17,
      "outputs": [
        {
          "output_type": "stream",
          "name": "stdout",
          "text": [
            "Отсортированный набор случайных данных:\n",
            "[-9, -4, -3, -2, 1, 2, 3, 7, 9, 10]\n",
            "\n",
            "Позиция нужного вам числа: 0\n"
          ]
        }
      ]
    },
    {
      "cell_type": "markdown",
      "source": [
        "####Метод бинарного дерева"
      ],
      "metadata": {
        "id": "yq-UhJWTIXyu"
      }
    },
    {
      "cell_type": "code",
      "source": [
        "#метод поиска числа в наборе путём создания дерева\n",
        "\n",
        "class Node:\n",
        "  def __init__(self, value): #передаём начальные значения \n",
        "                             #self - обращение к объекту класса treeNode\n",
        "      self.value = value\n",
        "      self.left = None\n",
        "      self.right = None\n",
        "  \n",
        "  def insert(self, value): #заполнение узлов веток значениями \n",
        "      if value < self.value: #заполнение левой ветки\n",
        "        if (self.left is None): #если в левой ветке ничего ещё нет\n",
        "          self.left = Node(value)\n",
        "        else: #если уже есть, то добавляем значение\n",
        "          self.left.insert(value)\n",
        "      elif (value > self.value): #заполнение правой ветки\n",
        "        if (self.right is None): #если в правой ветке ничего ещё нет\n",
        "            self.right = Node(value)\n",
        "        else: #если уже есть, то добавляем значение\n",
        "            self.right.insert(value)\n",
        "\n",
        "  def findValue(self, find_num): #метод для поиска значения в дереве (рекурсией)\n",
        "      if (find_num < self.value):\n",
        "        if (self.left is None):\n",
        "          return str(find_num) + \" was not found\"\n",
        "        return self.left.findValue(find_num)\n",
        "      elif (find_num > self.value):\n",
        "        if (self.right is None):\n",
        "          return str(find_num) + \" was not found\"\n",
        "        return self.right.findValue(find_num)\n",
        "      else:\n",
        "        return str(find_num) + \" was found\"\n",
        "\n",
        "  def printTree(self): #метод для вывода дерева\n",
        "    if (self.left):\n",
        "      self.left.printTree()\n",
        "    print(self.value)\n",
        "    if (self.right):\n",
        "      self.right.printTree()\n",
        "  \n",
        "tree = Node(len(mas)-1)\n",
        "\n",
        "for i in mas:\n",
        "  tree.insert(i)\n",
        "print(\"Начальный набор случайных данных в виде дерева: \")\n",
        "tree.printTree()\n",
        "print()\n",
        "print(\"Результат поиска: \" + tree.findValue(user_num))\n"
      ],
      "metadata": {
        "id": "cE0qWajHIa4O",
        "colab": {
          "base_uri": "https://localhost:8080/"
        },
        "outputId": "df26fa07-168f-4cf1-a598-67c376cd583b"
      },
      "execution_count": 21,
      "outputs": [
        {
          "output_type": "stream",
          "name": "stdout",
          "text": [
            "Начальный набор случайных данных в виде дерева: \n",
            "-9\n",
            "-4\n",
            "-3\n",
            "-2\n",
            "1\n",
            "2\n",
            "3\n",
            "7\n",
            "9\n",
            "10\n",
            "\n",
            "Результат поиска: -9 was found\n"
          ]
        }
      ]
    },
    {
      "cell_type": "markdown",
      "source": [
        "####Фибоначчиев метод"
      ],
      "metadata": {
        "id": "2W5LGNk4QhHr"
      }
    },
    {
      "cell_type": "code",
      "source": [
        "def Febo_search(mas, user_num):\n",
        "    \n",
        "    sort_mas = sorted(mas)\n",
        "    fib1 = 0 #первые два элемента последовательноти Фибоначчи\n",
        "    fib2 = 1\n",
        "    fibsum = fib1 + fib2\n",
        "    while (fibsum < len(sort_mas)):\n",
        "        fib1 = fib2\n",
        "        fib2 = fibsum\n",
        "        fibsum = fib1 + fib2\n",
        "\n",
        "    index = -1\n",
        "    while (fibsum > 1): #проверка на то, чтобы не дошло с конца до третьего элемента (тройки Фибоначчи)\n",
        "      new_ind = min(index + fib1, len(sort_mas)-1)\n",
        "      if (sort_mas[new_ind] < user_num): #сдвиг тройки последовательности Фибаначчи на 1 влево\n",
        "        fibsum = fib2\n",
        "        fib2 = fib1\n",
        "        fib1 = fibsum - fib2\n",
        "        index = new_ind\n",
        "      elif (sort_mas[new_ind] > user_num): #сдвиг тройки последовательности Фибаначчи на 2 влево\n",
        "        fibsum = fib1\n",
        "        fib2 = fib2 - fib1\n",
        "        fib1 = fibsum - fib2\n",
        "      else:\n",
        "        return new_ind\n",
        "    if (fib2 == 1 and index < (len(sort_mas)-1) and sort_mas[len(sort_mas)-1] == user_num):\n",
        "      return index+1\n",
        "    return -1\n",
        "\n",
        "sort_mas = sorted(mas)\n",
        "print(\"Отсортированный набор случайных данных:\")\n",
        "print(sort_mas)\n",
        "print(f\"\\nПозиция нужного вам числа: {Febo_search(mas, user_num)}\")\n"
      ],
      "metadata": {
        "id": "xOK89sVkQs-K",
        "colab": {
          "base_uri": "https://localhost:8080/"
        },
        "outputId": "0c628b8f-d52b-46ec-8e27-4508cf80ae55"
      },
      "execution_count": null,
      "outputs": [
        {
          "output_type": "stream",
          "name": "stdout",
          "text": [
            "Отсортированный набор случайных данных:\n",
            "[-8, -8, -8, -8, -4, -3, -2, 0, 1, 9]\n",
            "\n",
            "Позиция нужного вам числа: 5\n"
          ]
        }
      ]
    }
  ]
}