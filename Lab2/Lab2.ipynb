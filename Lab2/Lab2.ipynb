{
  "nbformat": 4,
  "nbformat_minor": 0,
  "metadata": {
    "colab": {
      "name": "Lab2.ipynb",
      "provenance": [],
      "collapsed_sections": []
    },
    "kernelspec": {
      "name": "python3",
      "display_name": "Python 3"
    },
    "language_info": {
      "name": "python"
    }
  },
  "cells": [
    {
      "cell_type": "markdown",
      "source": [
        ""
      ],
      "metadata": {
        "id": "FfiQ4uWF2mnK"
      }
    },
    {
      "cell_type": "markdown",
      "source": [
        "#Лабораторная работа №2\n",
        "##Выполнила студентка группы БВТ2001 Ильинская Вера Алексеевна"
      ],
      "metadata": {
        "id": "ces8TJoF23xt"
      }
    },
    {
      "cell_type": "markdown",
      "source": [
        "###Задание №1. Реализовать методы поиска "
      ],
      "metadata": {
        "id": "oTdPC7jQ3Png"
      }
    },
    {
      "cell_type": "markdown",
      "source": [
        "####Генерацию начального набора случайных данных"
      ],
      "metadata": {
        "id": "3Jjm5TOz33oZ"
      }
    },
    {
      "cell_type": "code",
      "source": [
        "from random import randint\n",
        "\n",
        "m = int (input(\"Введите количество цифр в наборе случайных данных: \") or 10) \n",
        "min_limit = int (input(\"Введите минимальное значение чисел: \") \n",
        "                 or -10)\n",
        "max_limit = int (input(\"Введите максимальное значение чисел: \") \n",
        "                 or 10)\n",
        "\n",
        "mas = []\n",
        "for i in range (0, m): \n",
        "    mas.append(randint(min_limit, max_limit)) #создание пустой строки и её присоединение к концу массива\n",
        "\n",
        "print(\"\\nНачальный набор случайных данных: \")\n",
        "print(mas)\n",
        "\n",
        "user_num = int (input(\"\\nВведите число, которое вы хотите найти в наборе случайных данных: \"))"
      ],
      "metadata": {
        "colab": {
          "base_uri": "https://localhost:8080/"
        },
        "id": "1twovF3C4BoU",
        "outputId": "41e17ff4-3e7b-4154-8a60-0d32845c04cb"
      },
      "execution_count": 1,
      "outputs": [
        {
          "name": "stdout",
          "output_type": "stream",
          "text": [
            "Введите количество цифр в наборе случайных данных: 10\n",
            "Введите минимальное значение чисел: -10\n",
            "Введите максимальное значение чисел: 10\n",
            "\n",
            "Начальный набор случайных данных: \n",
            "[5, 4, -7, -10, -9, 7, 10, -6, -5, 9]\n",
            "\n",
            "Введите число, которое вы хотите найти в наборе случайных данных: 7\n"
          ]
        }
      ]
    },
    {
      "cell_type": "markdown",
      "source": [
        "####Метод бинарного поиска"
      ],
      "metadata": {
        "id": "TDBZmYYk7u2w"
      }
    },
    {
      "cell_type": "code",
      "source": [
        "#метод деления пополам\n",
        "def Bin_search(mas, user_num):\n",
        "\n",
        "  sort_mas = sorted(mas)\n",
        "  if (user_num not in mas):\n",
        "    return -1\n",
        "  else:\n",
        "    min_ind = 0\n",
        "    max_ind = len(mas)\n",
        "\n",
        "    while (True):\n",
        "      mid = (min_ind + max_ind)//2\n",
        "      if (sort_mas[mid] < user_num):\n",
        "        min_ind = mid + 1\n",
        "      if (sort_mas[mid] > user_num):\n",
        "        max_ind = mid - 1\n",
        "      if (sort_mas[mid] == user_num):\n",
        "        return (min_ind + max_ind)//2\n",
        "\n",
        "sort_mas = sorted(mas)\n",
        "print(\"Отсортированный набор случайных данных:\")\n",
        "print(sort_mas)\n",
        "print(f\"\\nПозиция нужного вам числа: {Bin_search(mas, user_num)}\")"
      ],
      "metadata": {
        "colab": {
          "base_uri": "https://localhost:8080/"
        },
        "id": "nJRbY5lt70bA",
        "outputId": "c6cd8198-8bb7-4211-c53d-860223b0ee0b"
      },
      "execution_count": 2,
      "outputs": [
        {
          "output_type": "stream",
          "name": "stdout",
          "text": [
            "Отсортированный набор случайных данных:\n",
            "[-10, -9, -7, -6, -5, 4, 5, 7, 9, 10]\n",
            "\n",
            "Позиция нужного вам числа: 7\n"
          ]
        }
      ]
    },
    {
      "cell_type": "markdown",
      "source": [
        "####Метод бинарного дерева"
      ],
      "metadata": {
        "id": "yq-UhJWTIXyu"
      }
    },
    {
      "cell_type": "code",
      "source": [
        "#метод поиска числа в наборе путём создания дерева\n",
        "\n",
        "class Node:\n",
        "  def __init__(self, value): #передаём начальные значения \n",
        "                             #self - обращение к объекту класса treeNode\n",
        "      self.value = value\n",
        "      self.left = None\n",
        "      self.right = None\n",
        "  \n",
        "  def insert(self, value): #заполнение узлов веток значениями \n",
        "      if value < self.value: #заполнение левой ветки\n",
        "        if (self.left is None): #если в левой ветке ничего ещё нет\n",
        "          self.left = Node(value)\n",
        "        else: #если уже есть, то добавляем значение\n",
        "          self.left.insert(value)\n",
        "      elif (value > self.value): #заполнение правой ветки\n",
        "        if (self.right is None): #если в правой ветке ничего ещё нет\n",
        "            self.right = Node(value)\n",
        "        else: #если уже есть, то добавляем значение\n",
        "            self.right.insert(value)\n",
        "\n",
        "  def findValue(self, find_num): #метод для поиска значения в дереве (рекурсией)\n",
        "      if (find_num < self.value):\n",
        "        if (self.left is None):\n",
        "          return str(find_num) + \" was not found\"\n",
        "        return self.left.findValue(find_num)\n",
        "      elif (find_num > self.value):\n",
        "        if (self.right is None):\n",
        "          return str(find_num) + \" was not found\"\n",
        "        return self.right.findValue(find_num)\n",
        "      else:\n",
        "        return str(find_num) + \" was found\"\n",
        "\n",
        "  def printTree(self): #метод для вывода дерева\n",
        "    if (self.left):\n",
        "      self.left.printTree()\n",
        "    print(self.value)\n",
        "    if (self.right):\n",
        "      self.right.printTree()\n",
        "  \n",
        "tree = Node(len(mas)-1)\n",
        "\n",
        "for i in mas:\n",
        "  tree.insert(i)\n",
        "print(\"Начальный набор случайных данных в виде отсортированного дерева: \")\n",
        "tree.printTree()\n",
        "print()\n",
        "print(\"Результат поиска: \" + tree.findValue(user_num))\n"
      ],
      "metadata": {
        "id": "cE0qWajHIa4O",
        "colab": {
          "base_uri": "https://localhost:8080/"
        },
        "outputId": "df28810e-149e-4721-9453-05ff1f50f14a"
      },
      "execution_count": 3,
      "outputs": [
        {
          "output_type": "stream",
          "name": "stdout",
          "text": [
            "Начальный набор случайных данных в виде отсортированного дерева: \n",
            "-10\n",
            "-9\n",
            "-7\n",
            "-6\n",
            "-5\n",
            "4\n",
            "5\n",
            "7\n",
            "9\n",
            "10\n",
            "\n",
            "Результат поиска: 7 was found\n"
          ]
        }
      ]
    },
    {
      "cell_type": "markdown",
      "source": [
        "####Фибоначчиев метод"
      ],
      "metadata": {
        "id": "2W5LGNk4QhHr"
      }
    },
    {
      "cell_type": "code",
      "source": [
        "def Febo_search(mas, user_num):\n",
        "    \n",
        "    sort_mas = sorted(mas)\n",
        "    fib1 = 0 #первые два элемента последовательноти Фибоначчи\n",
        "    fib2 = 1\n",
        "    fibsum = fib1 + fib2\n",
        "    while (fibsum < len(sort_mas)):\n",
        "        fib1 = fib2\n",
        "        fib2 = fibsum\n",
        "        fibsum = fib1 + fib2\n",
        "\n",
        "    index = -1\n",
        "    while (fibsum > 1): #проверка на то, чтобы не дошло с конца до третьего элемента (тройки Фибоначчи)\n",
        "      new_ind = min(index + fib1, len(sort_mas)-1)\n",
        "      if (sort_mas[new_ind] < user_num): #сдвиг тройки последовательности Фибаначчи на 1 влево\n",
        "        fibsum = fib2\n",
        "        fib2 = fib1\n",
        "        fib1 = fibsum - fib2\n",
        "        index = new_ind\n",
        "      elif (sort_mas[new_ind] > user_num): #сдвиг тройки последовательности Фибаначчи на 2 влево\n",
        "        fibsum = fib1\n",
        "        fib2 = fib2 - fib1\n",
        "        fib1 = fibsum - fib2\n",
        "      else:\n",
        "        return new_ind\n",
        "    if (fib2 == 1 and index < (len(sort_mas)-1) and sort_mas[len(sort_mas)-1] == user_num):\n",
        "      return index+1\n",
        "    return -1\n",
        "\n",
        "sort_mas = sorted(mas)\n",
        "print(\"Отсортированный набор случайных данных:\")\n",
        "print(sort_mas)\n",
        "print(f\"\\nПозиция нужного вам числа: {Febo_search(mas, user_num)}\")\n"
      ],
      "metadata": {
        "id": "xOK89sVkQs-K",
        "colab": {
          "base_uri": "https://localhost:8080/"
        },
        "outputId": "5c7f5357-599f-4cd5-e676-174399550b2a"
      },
      "execution_count": 4,
      "outputs": [
        {
          "output_type": "stream",
          "name": "stdout",
          "text": [
            "Отсортированный набор случайных данных:\n",
            "[-10, -9, -7, -6, -5, 4, 5, 7, 9, 10]\n",
            "\n",
            "Позиция нужного вам числа: 7\n"
          ]
        }
      ]
    },
    {
      "cell_type": "markdown",
      "source": [
        "####Интерполяционный метод"
      ],
      "metadata": {
        "id": "eyv_QcwUBCax"
      }
    },
    {
      "cell_type": "code",
      "source": [
        "#метод деления пополам (с помощью предсказывания положения искомого элемента)\n",
        "\n",
        "def Inter_search(mas, user_num):\n",
        "  sort_mas = sorted(mas)\n",
        "\n",
        "  first = 0 #индекс первого элемент\n",
        "  last = len(mas) - 1 #индекс последного элемента\n",
        "\n",
        "  while (sort_mas[first] != sort_mas[last] and user_num in range(sort_mas[first], sort_mas[last]+1)):\n",
        "    mid = first + ((user_num - sort_mas[first]) * (last - first)) // (sort_mas[last] - sort_mas[first])\n",
        "    num = sort_mas[mid]\n",
        "    if (num == user_num):\n",
        "      return mid\n",
        "    elif (num < user_num):\n",
        "      first = mid + 1\n",
        "    else:\n",
        "      last = mid - 1\n",
        "  return -1\n",
        "\n",
        "sort_mas = sorted(mas)\n",
        "print(\"Отсортированный набор случайных данных:\")\n",
        "print(sort_mas)\n",
        "print(f\"\\nПозиция нужного вам числа: {Inter_search(mas, user_num)}\")\n"
      ],
      "metadata": {
        "colab": {
          "base_uri": "https://localhost:8080/"
        },
        "id": "2zuI6FwCBG_h",
        "outputId": "7ea810dc-6f65-444a-d177-101e785dbbc8"
      },
      "execution_count": 11,
      "outputs": [
        {
          "output_type": "stream",
          "name": "stdout",
          "text": [
            "Отсортированный набор случайных данных:\n",
            "[-10, -9, -7, -6, -5, 4, 5, 7, 9, 10]\n",
            "\n",
            "Позиция нужного вам числа: 7\n"
          ]
        }
      ]
    }
  ]
}