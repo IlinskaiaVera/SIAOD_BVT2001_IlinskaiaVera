{
  "cells": [
    {
      "cell_type": "markdown",
      "metadata": {
        "id": "0z3KlfKDn4_K"
      },
      "source": [
        "# Лабораторная работа 6. \n",
        "# Сетевые алгоритмы. Динамические алгоритмы поиска путей.\n"
      ]
    },
    {
      "cell_type": "markdown",
      "metadata": {
        "id": "96Gi_LEvmSVH"
      },
      "source": [
        "## Выполнил студент группы БВТ2001 Ильинская Вера"
      ]
    },
    {
      "cell_type": "markdown",
      "metadata": {
        "id": "GjdIp8aToKIe"
      },
      "source": [
        "### Задание\n",
        "\n",
        "1.  Реализовать алгоритм поиска кратчайшего расстояния между двумя вершинами ориентированного взвешенного графа в соответствии с вариантом. \n",
        "\n",
        "2.  Предусмотреть задание графа в виде матрицы смежности/инцидентности, читаемой из файла, либо графически с помощью пользовательского интерфейса. \n",
        "\n",
        "3.  Разработать графический интерфейс пользователя с визуализацией графа и отображением кратчайшего расстояния между задаваемыми пользователем вершинами.\n",
        "\n",
        "4. По результатам работы проанализировать временную сложность работы заданного алгоритма в зависимости от числа узлов и ребер графа.\n",
        "Данные представить в виде таблицы.\n",
        "\n"
      ]
    },
    {
      "cell_type": "markdown",
      "metadata": {
        "id": "LhhUXrAmotIA"
      },
      "source": [
        "### Алгоритмы:\n",
        "\n",
        "Алгоритм Флойда-Уоршелла| Алгоритм Дейкстры | Алгоритм Беллмана-Форда | Алгоритм Джонсона| Алгоритм Левита | Алгоритм Йена\n",
        "\n"
      ]
    },
    {
      "cell_type": "markdown",
      "metadata": {
        "id": "Wggfn8l7nG72"
      },
      "source": [
        "### Выполнение:"
      ]
    },
    {
      "cell_type": "code",
      "source": [
        "from google.colab import drive\n",
        "drive.mount('/content/drive')"
      ],
      "metadata": {
        "colab": {
          "base_uri": "https://localhost:8080/"
        },
        "id": "0HuaxnRM-2Es",
        "outputId": "5e9554f5-b793-4681-a458-236bd27fcef8"
      },
      "execution_count": 1,
      "outputs": [
        {
          "output_type": "stream",
          "name": "stdout",
          "text": [
            "Mounted at /content/drive\n"
          ]
        }
      ]
    },
    {
      "cell_type": "markdown",
      "source": [
        "###Алгоритм Флойда-Уоршелла"
      ],
      "metadata": {
        "id": "4eXDGtSRQEq0"
      }
    },
    {
      "cell_type": "code",
      "source": [
        "#дополнение матрицы дорог кратчайшими расстояниями между всеми вершинами взвешенного ориентированного графа\n",
        "#ищем новые маршруты между точками (может работать с отрицательными дугами, но с ними в конце получаются страааанные вещи)\n",
        "\n",
        "import math\n",
        "import networkx as nx\n",
        "import matplotlib.pyplot as plt\n",
        "import numpy as np\n",
        "\n",
        "try:\n",
        "  #считываем текстовый файл\n",
        "  with open(\"/content/drive/MyDrive/CIAOD and VVIT/Lab6Files/FloUorAlgo.txt\", \"r\", encoding = \"utf-8\") as fileFloUor:\n",
        "    matrix = [[int(num) for num in line.split(',')] for line in fileFloUor] #загружаем матрицу дорог графа\n",
        "\n",
        "    #ниже на нулях в матрице (кроме j) ставила бесконечность, т.к иначе всё работает не правильно\n",
        "    for i in range(len(matrix)):\n",
        "      for j in range(len(matrix[i])):\n",
        "          if (i!=j and matrix[i][j] == 0):\n",
        "              matrix[i][j] = math.inf\n",
        "\n",
        "    print(\"Матрица дорог: \")\n",
        "    for i in matrix:\n",
        "      print(i)\n",
        "    \n",
        "    N = len(matrix) #число вершин\n",
        "    # T = [[matrix for matrix in range(N)] for u in range(N)] #список промежуточных вершин, через которые проходим\n",
        "\n",
        "    #сам алгоритм \n",
        "    for k in range(N):\n",
        "      for i in range(N):\n",
        "        for j in range(N):\n",
        "          point = matrix[i][k] + matrix[k][j] #сумма маршрута через доп.вершину\n",
        "          if (matrix[i][j] > point): #если длина данного маршрута меньше того, что прописан матрицы (и тем более если в матрице его нету)\n",
        "            matrix[i][j] = point #дополняем и заменяем в матрице дорог маршрут\n",
        "            # T[i][j] = point #записываем в список номер вершины, через которую нужно пройти, чтобы дойти из точки j в точку i (вершина k)\n",
        "    \n",
        "    print(\"\\nДополненная матрица дорог со всеми возможными дорогами от всех точек до всех: \")\n",
        "    for i in matrix:\n",
        "      print(i)\n",
        "    \n",
        "    #отрисовка графа со всеми маршрутами\n",
        "    graph = nx.Graph(np.matrix(matrix))\n",
        "    nx.draw(graph, pos = nx.spring_layout(graph), edge_color = 'b', node_color = 'r', with_labels = True, node_size = 1000, arrows = True)\n",
        "\n",
        "except FileNotFoundError:\n",
        "  print(\"Файл не был найден\") "
      ],
      "metadata": {
        "id": "8kbtny4UQDtz",
        "colab": {
          "base_uri": "https://localhost:8080/",
          "height": 666
        },
        "outputId": "c6b47cfc-394c-4fed-bcb0-63e8b1422869"
      },
      "execution_count": 35,
      "outputs": [
        {
          "output_type": "stream",
          "name": "stdout",
          "text": [
            "Матрица дорог: \n",
            "[0, 2, inf, 3, 1, inf, inf, 10]\n",
            "[2, 0, 4, inf, inf, inf, inf, inf]\n",
            "[inf, 4, 0, inf, inf, inf, inf, 3]\n",
            "[3, inf, inf, 0, inf, inf, inf, 8]\n",
            "[1, inf, inf, inf, 0, 2, inf, inf]\n",
            "[inf, inf, inf, inf, 2, 0, 3, inf]\n",
            "[inf, inf, inf, inf, inf, 3, 0, 1]\n",
            "[10, inf, 3, 8, inf, inf, 1, 0]\n",
            "\n",
            "Дополненная матрица дорог со всеми возможными дорогами от всех точек до всех: \n",
            "[0, 2, 6, 3, 1, 3, 6, 7]\n",
            "[2, 0, 4, 5, 3, 5, 8, 7]\n",
            "[6, 4, 0, 9, 7, 7, 4, 3]\n",
            "[3, 5, 9, 0, 4, 6, 9, 8]\n",
            "[1, 3, 7, 4, 0, 2, 5, 6]\n",
            "[3, 5, 7, 6, 2, 0, 3, 4]\n",
            "[6, 8, 4, 9, 5, 3, 0, 1]\n",
            "[7, 7, 3, 8, 6, 4, 1, 0]\n"
          ]
        },
        {
          "output_type": "display_data",
          "data": {
            "text/plain": [
              "<Figure size 432x288 with 1 Axes>"
            ],
            "image/png": "[encoded data removed]"
          },
          "metadata": {}
        }
      ]
    },
    {
      "cell_type": "markdown",
      "source": [
        "###Алгоритм Дейкстры"
      ],
      "metadata": {
        "id": "SDwZz7Ms8xEh"
      }
    },
    {
      "cell_type": "code",
      "source": [
        "#алгоритм нахождения кратчайших путей от вершины 0 до всех остальных вершин\n",
        "\n",
        "import math\n",
        "import networkx as nx\n",
        "import matplotlib.pyplot as plt\n",
        "\n",
        "try:\n",
        "  #считываем текстовый файл\n",
        "  with open(\"/content/drive/MyDrive/CIAOD and VVIT/Lab6Files/DijkstraAlgo.txt\", \"r\", encoding = \"utf-8\") as fileDij:\n",
        "    matrix = [[int(num) for num in line.split(',')] for line in fileDij] #загружаем матрицу дорог графа\n",
        "\n",
        "    print(\"Матрица дорог(вершины 0-5): \")\n",
        "    for i in matrix:\n",
        "      print(i)\n",
        "    \n",
        "    # print(\"\\nОтображение графа: \")\n",
        "    # G = nx.Graph()\n",
        "    # G.add_edges_from([(1,2),(1,3),(1,4),(2,3),(3,5),(3,6),(4,6),(5,6)])\n",
        "    # nx.draw(G, with_labels = True, edge_color = 'b', node_color = 'r', node_size = 1000, arrows = True)\n",
        "    # plt.show()\n",
        "\n",
        "    N = len(matrix) #число вершин в нашем графе\n",
        "    T = [math.inf] * N #финальная строка длин дорог (inf - бесконечность)\n",
        "    startV = 0 #стартовая вершина\n",
        "    viewedV = {startV} #множество просмотренных вершин (в зависимости от стартовой вершины)\n",
        "    T[startV] = 0 #нулевой вес стартовой вершины должен быть равен 0!\n",
        "\n",
        "    #метод перебора всех связанных вершин\n",
        "    #просматриваем все веса других, связанных с startV, вершин, и возвращаем вершину с мин.значением\n",
        "    def getLinkWithV(startV, matrix):\n",
        "      for i, weight in enumerate(matrix[startV]): #берём веса из графа \n",
        "        if (weight > 0):\n",
        "          yield i\n",
        "\n",
        "    #метод нахождения в таблице вершины с мин.весом\n",
        "    def findMinWei(T, viewedV):\n",
        "      amin = -1 #начальный минимум, начальное состояние\n",
        "      m = max(T) #находим макс.значение финимальной строки длин дорог\n",
        "      for i, t in enumerate(T):\n",
        "        if (t < m and i not in viewedV): #находим мин.значение вершин, которые не были ещё рассмотрены\n",
        "            m = t\n",
        "            amin = i\n",
        "      return amin #возвращаем вершину с мин.значением\n",
        "\n",
        "    #заполяем T-табличку мин.весами\n",
        "    while (startV != -1): #цикл для прохождению по вершинам (если -1, то по всем вершинам прошли)\n",
        "      for j in getLinkWithV(startV, matrix): #перебераем все связанные вершины с вершиной startV\n",
        "        if (j not in viewedV): #если рассматриваемая строка таблицы не была просмотрена\n",
        "          wei = T[startV] + matrix[startV][j] #получаем путь, что прошли до минимальной вершины\n",
        "          if (wei < T[j]): #если вес меньше последней позиции нашей финальной строки\n",
        "            T[j] = wei #присваиваем минимальное значение, то есть меняем мин.длину\n",
        "      #должны найти мин.аргумент между последней строчкой и множеством, что уже было просмотрено\n",
        "      startV = findMinWei(T, viewedV) #находим мин.значение вершины\n",
        "      if (startV > 0):\n",
        "        viewedV.add(startV)\n",
        "    print(\"\\nДлины кратчайших путей от вершины 0 до всех остальных вершин соотвественно: \")\n",
        "    print(T)\n",
        "\n",
        "\n",
        "    # print(\"\\nОтображение кратчайшего расстояния между вершиной 1 и всеми остальными вершинами: \")\n",
        "    # G = nx.Graph()\n",
        "    # G.add_edge('1', '2', width = 10)  \n",
        "    # G.add_edge('1', '4', width = 1.0)  \n",
        "    # nx.draw(G, with_labels = True, edge_color = 'b', node_color = 'r', node_size = 1000)\n",
        "    # plt.show()\n",
        "\n",
        "    # graph = nx.Graph(np.array(T))\n",
        "    # nx.draw(graph, pos = nx.spring_layout(graph), edge_color = 'b', node_color = 'r', with_labels = True, node_size = 1000, arrows = True)\n",
        "    \n",
        "except FileNotFoundError:\n",
        "  print(\"Файл не был найден\") "
      ],
      "metadata": {
        "colab": {
          "base_uri": "https://localhost:8080/"
        },
        "id": "aqmxe3qo8viD",
        "outputId": "a50d63f9-f292-42b6-a99a-e0e4552c9aea"
      },
      "execution_count": 41,
      "outputs": [
        {
          "output_type": "stream",
          "name": "stdout",
          "text": [
            "Матрица дорог(вершины 0-5): \n",
            "[0, 3, 1, 3, 0, 0]\n",
            "[3, 0, 4, 0, 0, 0]\n",
            "[1, 4, 0, 0, 7, 5]\n",
            "[3, 0, 0, 0, 0, 2]\n",
            "[0, 0, 7, 0, 0, 4]\n",
            "[0, 0, 5, 2, 4, 0]\n",
            "\n",
            "Длины кратчайших путей от вершины 0 до всех остальных вершин соотвественно: \n",
            "[0, 3, 1, 3, 8, 5]\n"
          ]
        }
      ]
    },
    {
      "cell_type": "markdown",
      "source": [
        "###Алгоритм Беллмана-Форда"
      ],
      "metadata": {
        "id": "dlwKfT92P1D1"
      }
    },
    {
      "cell_type": "code",
      "source": [
        "#нахождения кратчайшего пути от стартовой вершины до всех других вершин (похоже на Дейкстры)\n",
        "#можем работать с графами, в которых есть отрицательные рёбра \n",
        "\n",
        "import math\n",
        "import networkx as nx\n",
        "import matplotlib.pyplot as plt\n",
        "\n",
        "try:\n",
        "  #считываем текстовый файл\n",
        "  with open(\"/content/drive/MyDrive/CIAOD and VVIT/Lab6Files/DijkstraAlgo.txt\", \"r\", encoding = \"utf-8\") as fileBF: #использую тот же файл, что и для Дейкстры\n",
        "    matrix = [[int(num) for num in line.split(',')] for line in fileBF] #загружаем матрицу дорог графа\n",
        "    \n",
        "    #ниже на нулях в матрице (кроме j) ставила бесконечность, т.к иначе всё работает не правильно\n",
        "    for i in range(len(matrix)):\n",
        "      for j in range(len(matrix[i])):\n",
        "          if (i!=j and matrix[i][j] == 0):\n",
        "              matrix[i][j] = math.inf\n",
        "\n",
        "    print(\"Матрица дорог (вершины 0-5): \")\n",
        "    for i in matrix:\n",
        "      print(i)\n",
        "\n",
        "    startV = 1 #стартовая вершина\n",
        "\n",
        "    N = len(matrix) #число вершин в нашем графе\n",
        "    T = [math.inf] * N #финальная строка длин дорог (inf - бесконечность)\n",
        "    T[startV] = 0\n",
        "\n",
        "    #пересчёт финального массива путей\n",
        "    for k in range(1, N):\n",
        "        for i in range(N):\n",
        "            for j in range(N):\n",
        "                if (T[j] + matrix[j][i] < T[i]):\n",
        "                    T[i] = T[j] + matrix[j][i]\n",
        "    \n",
        "    print(\"\\nДлины кратчайших путей от вершины 1 до всех остальных вершин соотвественно: \")\n",
        "    print(T)\n",
        "\n",
        "except FileNotFoundError:\n",
        "  print(\"Файл не был найден\") "
      ],
      "metadata": {
        "colab": {
          "base_uri": "https://localhost:8080/"
        },
        "id": "9R3Z4OyMP5k1",
        "outputId": "93ffed84-dee3-41d8-f42c-671e35baa2bc"
      },
      "execution_count": 40,
      "outputs": [
        {
          "output_type": "stream",
          "name": "stdout",
          "text": [
            "Матрица дорог (вершины 0-5): \n",
            "[0, 3, 1, 3, inf, inf]\n",
            "[3, 0, 4, inf, inf, inf]\n",
            "[1, 4, 0, inf, 7, 5]\n",
            "[3, inf, inf, 0, inf, 2]\n",
            "[inf, inf, 7, inf, 0, 4]\n",
            "[inf, inf, 5, 2, 4, 0]\n",
            "\n",
            "Длины кратчайших путей от вершины 1 до всех остальных вершин соотвественно: \n",
            "[3, 0, 4, 6, 11, 8]\n"
          ]
        }
      ]
    },
    {
      "cell_type": "markdown",
      "source": [
        "###Алгоритм Джонсона"
      ],
      "metadata": {
        "id": "CSsG3MC3scN9"
      }
    },
    {
      "cell_type": "code",
      "source": [
        "#как и в Флойда-Уоршелла, находим кратчайшие пути между всеми парами вершин во взвешенном ориентированном графе (также с возможностью работы с отрицательными весами)\n",
        "#смысл - изменить отрицательные дуги на положительные, дабы всё работало хорошо\n",
        "\n"
      ],
      "metadata": {
        "id": "PZ3ICEzKsgY0"
      },
      "execution_count": null,
      "outputs": []
    },
    {
      "cell_type": "markdown",
      "metadata": {
        "id": "diOb-K7LnO5a"
      },
      "source": [
        "### Вывод"
      ]
    }
  ],
  "metadata": {
    "colab": {
      "name": "Lab6.ipynb",
      "provenance": [],
      "collapsed_sections": []
    },
    "kernelspec": {
      "display_name": "Python 3 (ipykernel)",
      "language": "python",
      "name": "python3"
    },
    "language_info": {
      "codemirror_mode": {
        "name": "ipython",
        "version": 3
      },
      "file_extension": ".py",
      "mimetype": "text/x-python",
      "name": "python",
      "nbconvert_exporter": "python",
      "pygments_lexer": "ipython3",
      "version": "3.10.2"
    }
  },
  "nbformat": 4,
  "nbformat_minor": 0
}