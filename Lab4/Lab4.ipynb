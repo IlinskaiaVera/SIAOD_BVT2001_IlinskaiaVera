{
  "cells": [
    {
      "cell_type": "markdown",
      "id": "fifteen-sailing",
      "metadata": {
        "id": "fifteen-sailing"
      },
      "source": [
        "# Лабораторная работа №4\n",
        "## Выполнил студент группы БВТ2001 Ильинская Вера \n"
      ]
    },
    {
      "cell_type": "markdown",
      "id": "arctic-stocks",
      "metadata": {
        "id": "arctic-stocks"
      },
      "source": [
        "Реализовать следующие структуры данных:\n",
        "  \n",
        "● <b> Стек (stack): </b>  \n",
        "Операции для стека: \n",
        "<i> инициализация, проверка на пустоту, добавление нового элемента в начало, извлечение элемента из начала;  </i>  \n",
        "  \n",
        "● <b> Дек (двусторонняя очередь, deque):  </b>  \n",
        "Операции для дека: \n",
        "<i> инициализация, проверка на пустоту, добавление нового элемента в начало, добавление нового элемента в конец, извлечение элемента из начала, извлечение элемента из конца. </i>  \n",
        "  \n",
        "<i> Разработать программу обработки данных, содержащихся в заранее подготовленном txt-файле, в соответствии с заданиями, применив указанную в задании структуру данных. Результат работы программы вывести на экран и сохранить в отдельном txt-файле. </i>"
      ]
    },
    {
      "cell_type": "code",
      "source": [
        "class Stack():\n",
        "  #инициализация стека\n",
        "  def __init__(self):\n",
        "        self.Stack = []\n",
        "  \n",
        "  #проверка стека на пустоту\n",
        "  def isStackEmpty(self):\n",
        "    if (len(self.Stack)):\n",
        "      return False\n",
        "    else:\n",
        "      return True\n",
        "\n",
        "  #добавление нового элемента в начало\n",
        "  def addNewElStackStart(self, el):\n",
        "    self.Stack.append(el)\n",
        "  \n",
        "  #извлечение элемента из начала\n",
        "  def popStackEl(self):\n",
        "    return self.Stack.pop()\n",
        "\n",
        "class Deque():\n",
        "  #инициализация дека\n",
        "  def __init__(self, mas):\n",
        "    self.Deque = mas\n",
        "  \n",
        "  #проверка дека на пустоту\n",
        "  def isDequeEmpty(self):\n",
        "    if (len(self.Deque)):\n",
        "      return False\n",
        "    else:\n",
        "      return True  \n",
        "\n",
        "  #добавление нового элемента в начало\n",
        "  def addNewElDequeStart(self, el):\n",
        "    self.Deque.insert(0, el)\n",
        "  \n",
        "  #добавление нового элемента в конец\n",
        "  def addNewElDequeEnd(self, el):\n",
        "    self.Deque.append(el)\n",
        "  \n",
        "  #извлечение элемента из начала\n",
        "  def popDequeElStart(self):\n",
        "    return self.Deque.pop(0)\n",
        "  \n",
        "  #извлечение элемента из конца\n",
        "  def popDequeElEnd(self):\n",
        "    return self.Deque.pop()\n"
      ],
      "metadata": {
        "id": "UpFhb-RxPOb1"
      },
      "id": "UpFhb-RxPOb1",
      "execution_count": 48,
      "outputs": []
    },
    {
      "cell_type": "markdown",
      "id": "5d7edb08",
      "metadata": {
        "scrolled": true,
        "id": "5d7edb08"
      },
      "source": [
        "### Задание №1\n",
        "Отсортировать строки файла, содержащие названия книг, в алфавитном порядке с использованием двух деков."
      ]
    },
    {
      "cell_type": "code",
      "execution_count": null,
      "id": "17702ade",
      "metadata": {
        "id": "17702ade"
      },
      "outputs": [],
      "source": [
        ""
      ]
    },
    {
      "cell_type": "markdown",
      "id": "49fbd2a0",
      "metadata": {
        "id": "49fbd2a0"
      },
      "source": [
        "### Задание №2\n",
        "Дек содержит последовательность символов для шифровки сообщений. Дан текстовый файл, содержащий зашифрованное сообщение. Пользуясь деком, расшифровать текст. \n",
        "Известно, что при шифровке каждый символ сообщения заменялся следующим за ним в деке по часовой стрелке через один."
      ]
    },
    {
      "cell_type": "code",
      "execution_count": 49,
      "id": "81cab7a8",
      "metadata": {
        "id": "81cab7a8",
        "colab": {
          "base_uri": "https://localhost:8080/"
        },
        "outputId": "962ea333-1112-45e4-8792-c5c69812dc86"
      },
      "outputs": [
        {
          "output_type": "stream",
          "name": "stdout",
          "text": [
            "['Т', 'О', 'М', 'А', 'К', 'У', 'Н']\n",
            "Произошли технические шоколадки\n",
            "\n"
          ]
        }
      ],
      "source": [
        "#ТОМАКУН\n",
        "#УНТОМАК\n",
        "\n",
        "deque2 = Deque(['Т', 'О', 'М', 'А', 'К', 'У', 'Н'])\n",
        "print(deque2.Deque)\n",
        "\n",
        "try:\n",
        "  #считываем текстовый файл\n",
        "  with open(\"/content/drive/MyDrive/CIAOD and VVIT/Lab4Files/Task2Lab4.txt\", \"r\", encoding = \"utf-8\") as codefile2:\n",
        "    result = \"\"\n",
        "    for i in codefile2:\n",
        "        temp_str = \"\"\n",
        "        temp_deq_sym = deque2.popDequeElStart()\n",
        "        if (deque2.isDequeEmpty() != False): #!!!!!\n",
        "        \n",
        "          #пока буква сообщения не равна проверяемой сейчас букве дека\n",
        "          while i != temp_deq_sym:\n",
        "            temp_str +=  temp_deq_sym #добавляем во временную строку все пройденные в деке буквы\n",
        "            temp_deq_sym = deque2.popDequeElStart() #обновляем проверяемую букву дека\n",
        "          \n",
        "          #если совпадение с деком произошло на первой букве зашифрованного сообщения\n",
        "          #(если так, то первая буква сообщения == предпоследней букве дека)\n",
        "          if (len(temp_str) == 0):\n",
        "            deque2.addNewElDequeStart(temp_deq_sym) #для правильности возвращаем\n",
        "                                                    #рассма-й ранее элемент в дек\n",
        "            temp_deq_sym_last = deque2.popDequeElEnd() #берём последний элемент дека\n",
        "            temp_deq_sym = deque2.popDequeElEnd() #берём предпоследний элемент дека\n",
        "            result += temp_deq_sym\n",
        "            deque2.addNewElDequeEnd(temp_deq_sym) #возвращаем взятые буквы в дек\n",
        "            deque2.addNewElDequeEnd(temp_deq_sym_last)\n",
        "\n",
        "          #если совпадение с деком произошло на второй букве зашифрованного сообщения\n",
        "          #(если так, то вторая буква сообщения == последний букве дека)\n",
        "          if (len(temp_str) == 1):\n",
        "            deque2.addNewElDequeStart(temp_deq_sym)\n",
        "            deque2.addNewElDequeStart(temp_str[0])\n",
        "            temp_deq_sym = deque2.popDequeElEnd() #берём последний элемент дека\n",
        "            result += temp_deq_sym\n",
        "            deque2.addNewElDequeEnd(temp_deq_sym)\n",
        "\n",
        "          #если не особый случай первого и второго совпадения, то просто берём\n",
        "          #и расшифровываем сообщение с помощью символов во временной строке\n",
        "          else:\n",
        "            deque2.addNewElDequeStart(temp_deq_sym)\n",
        "            temp_deq_sym = temp_str[len(temp_str) - 2]\n",
        "            result += temp_deq_sym\n",
        "            for j in reversed(temp_str):\n",
        "              deque2.addNewElDequeStart(j) #снова возвращаем все символы в дек\n",
        "        else:\n",
        "          print(\"Произошли технические шоколадки\")\n",
        "    print(result)\n",
        "\n",
        "except FileNotFoundError:\n",
        "  print(\"Файл не был найден\") \n",
        "\n",
        "try:\n",
        "  with open(\"/content/drive/MyDrive/CIAOD and VVIT/Lab4Files/Task2Lab4New.txt\", \"w\", encoding = \"utf-8\") as newfile:\n",
        "    newfile.write(result)\n",
        "except:\n",
        "    print(\"Извините, что-то пошло не так. Попробуйте ещё раз запустить ячейку\")"
      ]
    },
    {
      "cell_type": "markdown",
      "id": "c0894f47",
      "metadata": {
        "id": "c0894f47"
      },
      "source": [
        "### Задание №3\n",
        "Даны три стержня и n дисков различного размера. Диски можно надевать на стержни, образуя из них башни. Перенести n дисков со стержня А на стержень С, сохранив их первоначальный порядок. При переносе дисков необходимо соблюдать следующие правила:\n",
        "- на каждом шаге со стержня на стержень переносить только один диск;\n",
        "- диск нельзя помещать на диск меньшего размера;\n",
        "- для промежуточного хранения можно использовать стержень В.\n",
        "Реализовать алгоритм, используя три стека вместо стержней А, В, С. Информация о дисках хранится в исходном файле."
      ]
    },
    {
      "cell_type": "code",
      "execution_count": null,
      "id": "9e91a9d4",
      "metadata": {
        "id": "9e91a9d4"
      },
      "outputs": [],
      "source": [
        ""
      ]
    },
    {
      "cell_type": "markdown",
      "id": "e5b0be17",
      "metadata": {
        "id": "e5b0be17"
      },
      "source": [
        "### Задание №4\n",
        "Дан текстовый файл с программой на алгоритмическом языке. За один просмотр файла проверить баланс круглых скобок в тексте, используя стек."
      ]
    },
    {
      "cell_type": "code",
      "execution_count": 64,
      "id": "5b1df60a",
      "metadata": {
        "id": "5b1df60a",
        "colab": {
          "base_uri": "https://localhost:8080/"
        },
        "outputId": "cabe4e4b-3ed1-4551-cff2-4cd3f4bad46c"
      },
      "outputs": [
        {
          "output_type": "stream",
          "name": "stdout",
          "text": [
            "Баланс круглых скобок нарушен\n"
          ]
        }
      ],
      "source": [
        "try:\n",
        "  #считываем текстовый файл\n",
        "  with open(\"/content/drive/MyDrive/CIAOD and VVIT/Lab4Files/Task45JavaCode.txt\", \"r\", encoding = \"utf-8\") as codefile4:\n",
        "    stack4 = Stack()\n",
        "    for line in codefile4:\n",
        "      for el in line:\n",
        "        if (el == \"(\"):\n",
        "          stack4.addNewElStackStart(el)\n",
        "        elif (el == ')'):\n",
        "          #если стак не пустой, т.е '(' уже встречалась\n",
        "          if (stack4.isStackEmpty() is False):\n",
        "            stack4.popStackEl() #удаляем '(' в стаке, по которому ориентировалась проверка\n",
        "          else:\n",
        "            break\n",
        "\n",
        "  strRes = \"Баланс круглых скобок не нарушен\" if stack4.isStackEmpty() else \"Баланс круглых скобок нарушен\"\n",
        "  print (strRes)\n",
        "\n",
        "except FileNotFoundError:\n",
        "  print(\"Файл не был найден\") "
      ]
    },
    {
      "cell_type": "markdown",
      "id": "c44cdd6b",
      "metadata": {
        "id": "c44cdd6b"
      },
      "source": [
        "### Задание №5\n",
        "Дан текстовый файл с программой на алгоритмическом языке. За один просмотр файла проверить баланс квадратных скобок в тексте, используя дек."
      ]
    },
    {
      "cell_type": "code",
      "execution_count": 65,
      "id": "36b8f400",
      "metadata": {
        "id": "36b8f400",
        "colab": {
          "base_uri": "https://localhost:8080/"
        },
        "outputId": "965e6122-4895-4cf3-e19b-efd5aa5d1491"
      },
      "outputs": [
        {
          "output_type": "stream",
          "name": "stdout",
          "text": [
            "Баланс квадратных скобок не нарушен\n"
          ]
        }
      ],
      "source": [
        "try:\n",
        "  #считываем текстовый файл\n",
        "  with open(\"/content/drive/MyDrive/CIAOD and VVIT/Lab4Files/Task45JavaCode.txt\", \"r\", encoding = \"utf-8\") as codefile4:\n",
        "    stack4 = Stack()\n",
        "    for line in codefile4:\n",
        "      for el in line:\n",
        "        if (el == \"[\"):\n",
        "          stack4.addNewElStackStart(el)\n",
        "        elif (el == ']'):\n",
        "          if (stack4.isStackEmpty() is False):\n",
        "            stack4.popStackEl()\n",
        "          else:\n",
        "            break\n",
        "\n",
        "  strRes = \"Баланс квадратных скобок не нарушен\" if stack4.isStackEmpty() else \"Баланс квадратных скобок нарушен\"\n",
        "  print (strRes)\n",
        "\n",
        "except FileNotFoundError:\n",
        "  print(\"Файл не был найден\") "
      ]
    },
    {
      "cell_type": "markdown",
      "id": "59d13dc7",
      "metadata": {
        "id": "59d13dc7"
      },
      "source": [
        "### Задание №6\n",
        "Дан файл из символов. Используя стек, за один просмотр файла напечатать сначала все цифры, затем все буквы, и, наконец, все остальные символы, сохраняя исходный порядок в каждой группе символов."
      ]
    },
    {
      "cell_type": "code",
      "execution_count": 62,
      "id": "297e36c2",
      "metadata": {
        "id": "297e36c2",
        "colab": {
          "base_uri": "https://localhost:8080/"
        },
        "outputId": "cf424c28-c79e-4e35-b09b-5bb04ef3d25d"
      },
      "outputs": [
        {
          "output_type": "stream",
          "name": "stdout",
          "text": [
            "23 | Яужеразасказалатебечтовстрокенедолжнобыть | -     ,        \"#\"\n"
          ]
        }
      ],
      "source": [
        "try:\n",
        "  with open(\"/content/drive/MyDrive/CIAOD and VVIT/Lab4Files/Task6Lab4.txt\", \"r\", encoding = \"utf-8\") as file6:\n",
        "    stackNums = Stack()\n",
        "    stackLetters = Stack()\n",
        "    stackSyms = Stack()\n",
        "    for line in file6:\n",
        "      line = reversed(line)\n",
        "      for i in line:\n",
        "        if (i.isdigit()):\n",
        "          stackNums.addNewElStackStart(i)\n",
        "        elif (i.isalpha()):\n",
        "          stackLetters.addNewElStackStart(i)\n",
        "        else:\n",
        "          stackSyms.addNewElStackStart(i)\n",
        "\n",
        "    nums_str = \"\"\n",
        "    while (stackNums.isStackEmpty() == False):\n",
        "      nums_str += stackNums.popStackEl()\n",
        "    letters_str = \"\"\n",
        "    while (stackLetters.isStackEmpty() == False):\n",
        "      letters_str += stackLetters.popStackEl()\n",
        "    syms_str = \"\"\n",
        "    while (stackSyms.isStackEmpty() == False):\n",
        "      syms_str += stackSyms.popStackEl()\n",
        "    result = nums_str + \" | \" + letters_str + \" | \" + syms_str\n",
        "    print(result)\n",
        "\n",
        "except FileNotFoundError:\n",
        "  print(\"Файл не был найден\")\n",
        "\n",
        "try:\n",
        "  with open(\"/content/drive/MyDrive/CIAOD and VVIT/Lab4Files/Task6Lab4New.txt\", \"w\", encoding = \"utf-8\") as new6file:\n",
        "    new6file.write(result)\n",
        "except:\n",
        "    print(\"Извините, что-то пошло не так. Попробуйте ещё раз запустить ячейку\")"
      ]
    },
    {
      "cell_type": "markdown",
      "id": "973f68bd",
      "metadata": {
        "id": "973f68bd"
      },
      "source": [
        "### Задание №7\n",
        "Дан файл из целых чисел. Используя дек, за один просмотр файла напечатать сначала все отрицательные числа, затем все положительные числа, сохраняя исходный порядок в каждой группе."
      ]
    },
    {
      "cell_type": "code",
      "execution_count": 52,
      "id": "c56fad66",
      "metadata": {
        "id": "c56fad66",
        "colab": {
          "base_uri": "https://localhost:8080/"
        },
        "outputId": "f62a9b16-80bd-4c30-9036-80e8c5640058"
      },
      "outputs": [
        {
          "output_type": "stream",
          "name": "stdout",
          "text": [
            "-8 -2 -4 -5 1 4 9 3 \n"
          ]
        }
      ],
      "source": [
        "try:\n",
        "  with open(\"/content/drive/MyDrive/CIAOD and VVIT/Lab4Files/Task7Lab4.txt\", \"r\", encoding = \"utf-8\") as numsfile:\n",
        "    dequeNeg7 = Deque([])\n",
        "    dequePos7 = Deque([])\n",
        "    numMas = numsfile.readline().split(\" \")\n",
        "    for i in numMas:\n",
        "      if (int(i) < 0):\n",
        "        dequeNeg7.addNewElDequeEnd(int(i))\n",
        "      if (int(i) > 0):\n",
        "        dequePos7.addNewElDequeEnd(int(i))\n",
        "    \n",
        "  result = \"\"\n",
        "  while (dequeNeg7.isDequeEmpty() == False):\n",
        "    result += str(dequeNeg7.popDequeElStart()) + \" \" #выводим из дека элементы с начала (от отрицательных)\n",
        "  while (dequePos7.isDequeEmpty() == False):\n",
        "    result += str(dequePos7.popDequeElStart()) + \" \" \n",
        "  print(result)\n",
        "except FileNotFoundError:\n",
        "  print(\"Файл не был найден\")\n",
        "\n",
        "try:\n",
        "  with open(\"/content/drive/MyDrive/CIAOD and VVIT/Lab4Files/Task7Lab4New.txt\", \"w\", encoding = \"utf-8\") as newnumsfile:\n",
        "    newnumsfile.write(result)\n",
        "except:\n",
        "    print(\"Извините, что-то пошло не так. Попробуйте ещё раз запустить ячейку\")"
      ]
    },
    {
      "cell_type": "markdown",
      "id": "b9228191",
      "metadata": {
        "id": "b9228191"
      },
      "source": [
        "### Задание №8\n",
        "Дан текстовый файл. Используя стек, сформировать новый текстовый файл, содержащий строки исходного файла, записанные в обратном порядке: первая строка становится последней, вторая – предпоследней и т.д."
      ]
    },
    {
      "cell_type": "code",
      "execution_count": 53,
      "id": "981fbdfe",
      "metadata": {
        "id": "981fbdfe"
      },
      "outputs": [],
      "source": [
        "try:\n",
        "  #считываем текстовый файл\n",
        "  with open(\"/content/drive/MyDrive/CIAOD and VVIT/Lab4Files/Task8Lab4.txt\", \"r\", encoding = \"utf-8\") as txtfile:\n",
        "    stack8 = Stack()\n",
        "    for line in txtfile:\n",
        "        stack8.addNewElStackStart(line)\n",
        "except FileNotFoundError:\n",
        "    print(\"Файл не был найден\")\n",
        "\n",
        "try:\n",
        "  #создание/запись в новый текстовый файл\n",
        "  with open(\"/content/drive/MyDrive/CIAOD and VVIT/Lab4Files/Task8Lab4New.txt\", \"w\", encoding = \"utf-8\") as newtxtfile:\n",
        "    while (stack8.isStackEmpty() is False):\n",
        "      newtxtfile.write(stack8.popStackEl())\n",
        "except:\n",
        "    print(\"Извините, что-то пошло не так. Попробуйте ещё раз запустить ячейку\")"
      ]
    },
    {
      "cell_type": "code",
      "source": [
        "from google.colab import drive\n",
        "drive.mount('/content/drive')"
      ],
      "metadata": {
        "colab": {
          "base_uri": "https://localhost:8080/"
        },
        "id": "95QieqCaZM_G",
        "outputId": "195e63f2-6952-463f-d381-ccca6cad9c4f"
      },
      "id": "95QieqCaZM_G",
      "execution_count": 44,
      "outputs": [
        {
          "output_type": "stream",
          "name": "stdout",
          "text": [
            "Drive already mounted at /content/drive; to attempt to forcibly remount, call drive.mount(\"/content/drive\", force_remount=True).\n"
          ]
        }
      ]
    },
    {
      "cell_type": "markdown",
      "id": "rental-jerusalem",
      "metadata": {
        "id": "rental-jerusalem"
      },
      "source": [
        "### Вывод\n"
      ]
    },
    {
      "cell_type": "markdown",
      "id": "0c2b8899",
      "metadata": {
        "id": "0c2b8899"
      },
      "source": [
        ""
      ]
    }
  ],
  "metadata": {
    "kernelspec": {
      "display_name": "Python 3 (ipykernel)",
      "language": "python",
      "name": "python3"
    },
    "language_info": {
      "codemirror_mode": {
        "name": "ipython",
        "version": 3
      },
      "file_extension": ".py",
      "mimetype": "text/x-python",
      "name": "python",
      "nbconvert_exporter": "python",
      "pygments_lexer": "ipython3",
      "version": "3.10.2"
    },
    "colab": {
      "name": "Lab4.ipynb",
      "provenance": [],
      "collapsed_sections": []
    }
  },
  "nbformat": 4,
  "nbformat_minor": 5
}