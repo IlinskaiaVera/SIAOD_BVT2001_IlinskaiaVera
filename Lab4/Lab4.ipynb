{
  "cells": [
    {
      "cell_type": "markdown",
      "id": "fifteen-sailing",
      "metadata": {
        "id": "fifteen-sailing"
      },
      "source": [
        "# Лабораторная работа №4\n",
        "## Выполнил студент группы БВТ2001 Ильинская Вера \n"
      ]
    },
    {
      "cell_type": "markdown",
      "id": "arctic-stocks",
      "metadata": {
        "id": "arctic-stocks"
      },
      "source": [
        "Реализовать следующие структуры данных:\n",
        "  \n",
        "● <b> Стек (stack): </b>  \n",
        "Операции для стека: \n",
        "<i> инициализация, проверка на пустоту, добавление нового элемента в начало, извлечение элемента из начала;  </i>  \n",
        "  \n",
        "● <b> Дек (двусторонняя очередь, deque):  </b>  \n",
        "Операции для дека: \n",
        "<i> инициализация, проверка на пустоту, добавление нового элемента в начало, добавление нового элемента в конец, извлечение элемента из начала, извлечение элемента из конца. </i>  \n",
        "  \n",
        "<i> Разработать программу обработки данных, содержащихся в заранее подготовленном txt-файле, в соответствии с заданиями, применив указанную в задании структуру данных. Результат работы программы вывести на экран и сохранить в отдельном txt-файле. </i>"
      ]
    },
    {
      "cell_type": "code",
      "source": [
        "class Stack():\n",
        "  #инициализация стека\n",
        "  def __init__(self):\n",
        "        self.Stack = []\n",
        "  \n",
        "  #проверка стека на пустоту\n",
        "  def isStackEmpty(self):\n",
        "    if (len(self.Stack)):\n",
        "      return False\n",
        "    else:\n",
        "      return True\n",
        "\n",
        "  #добавление нового элемента в начало\n",
        "  def addNewElStackStart(self, el):\n",
        "    self.Stack.append(el)\n",
        "  \n",
        "  #извлечение элемента из начала\n",
        "  def popStackEl(self):\n",
        "    return self.Stack.pop()\n",
        "\n",
        "class Deque():\n",
        "  #инициализация дека\n",
        "  def __init__(self):\n",
        "        self.Deque = []\n",
        "  \n",
        "  #проверка дека на пустоту\n",
        "  def isDequeEmpty(self):\n",
        "    if (len(self.Deque)):\n",
        "      return False\n",
        "    else:\n",
        "      return True  \n",
        "\n",
        "  #добавление нового элемента в начало\n",
        "  def addNewElDequeStart(self, el):\n",
        "    self.Deque.insert(0, el)\n",
        "  \n",
        "  #добавление нового элемента в конец\n",
        "  def addNewElDequeEnd(self, el):\n",
        "    self.Deque.append(el)\n",
        "  \n",
        "  #извлечение элемента из начала\n",
        "  def popDequeElStart(self):\n",
        "      return self.Deque.pop(0)\n",
        "  \n",
        "  #извлечение элемента из конца\n",
        "  def popDequeElEnd(self):\n",
        "    return self.Deque.pop()\n"
      ],
      "metadata": {
        "id": "UpFhb-RxPOb1"
      },
      "id": "UpFhb-RxPOb1",
      "execution_count": null,
      "outputs": []
    },
    {
      "cell_type": "markdown",
      "id": "5d7edb08",
      "metadata": {
        "scrolled": true,
        "id": "5d7edb08"
      },
      "source": [
        "### Задание №1\n",
        "Отсортировать строки файла, содержащие названия книг, в алфавитном порядке с использованием двух деков."
      ]
    },
    {
      "cell_type": "code",
      "execution_count": null,
      "id": "17702ade",
      "metadata": {
        "id": "17702ade"
      },
      "outputs": [],
      "source": [
        ""
      ]
    },
    {
      "cell_type": "markdown",
      "id": "49fbd2a0",
      "metadata": {
        "id": "49fbd2a0"
      },
      "source": [
        "### Задание №2\n",
        "Дек содержит последовательность символов для шифровки сообщений. Дан текстовый файл, содержащий зашифрованное сообщение. Пользуясь деком, расшифровать текст. \n",
        "Известно, что при шифровке каждый символ сообщения заменялся следующим за ним в деке по часовой стрелке через один."
      ]
    },
    {
      "cell_type": "code",
      "execution_count": null,
      "id": "81cab7a8",
      "metadata": {
        "id": "81cab7a8"
      },
      "outputs": [],
      "source": [
        ""
      ]
    },
    {
      "cell_type": "markdown",
      "id": "c0894f47",
      "metadata": {
        "id": "c0894f47"
      },
      "source": [
        "### Задание №3\n",
        "Даны три стержня и n дисков различного размера. Диски можно надевать на стержни, образуя из них башни. Перенести n дисков со стержня А на стержень С, сохранив их первоначальный порядок. При переносе дисков необходимо соблюдать следующие правила:\n",
        "- на каждом шаге со стержня на стержень переносить только один диск;\n",
        "- диск нельзя помещать на диск меньшего размера;\n",
        "- для промежуточного хранения можно использовать стержень В.\n",
        "Реализовать алгоритм, используя три стека вместо стержней А, В, С. Информация о дисках хранится в исходном файле."
      ]
    },
    {
      "cell_type": "code",
      "execution_count": null,
      "id": "9e91a9d4",
      "metadata": {
        "id": "9e91a9d4"
      },
      "outputs": [],
      "source": [
        ""
      ]
    },
    {
      "cell_type": "markdown",
      "id": "e5b0be17",
      "metadata": {
        "id": "e5b0be17"
      },
      "source": [
        "### Задание №4\n",
        "Дан текстовый файл с программой на алгоритмическом языке. За один просмотр файла проверить баланс круглых скобок в тексте, используя стек."
      ]
    },
    {
      "cell_type": "code",
      "execution_count": 43,
      "id": "5b1df60a",
      "metadata": {
        "id": "5b1df60a",
        "colab": {
          "base_uri": "https://localhost:8080/"
        },
        "outputId": "ba857977-72e2-432c-aa18-dd4406280a5a"
      },
      "outputs": [
        {
          "output_type": "stream",
          "name": "stdout",
          "text": [
            "Баланс круглых скобок нарушен\n"
          ]
        }
      ],
      "source": [
        "try:\n",
        "  #считываем текстовый файл\n",
        "  with open(\"/content/drive/MyDrive/CIAOD and VVIT/Lab4Files/Task4JavaCode.txt\", \"r\", encoding = \"utf-8\") as codefile4:\n",
        "    stack4 = Stack()\n",
        "    for line in codefile4:\n",
        "      for el in line:\n",
        "        if (el == \"(\"):\n",
        "          stack4.addNewElStackStart(el)\n",
        "        elif (el == ')'):\n",
        "          #если стак не пустой, т.е '(' уже встречалась\n",
        "          if (stack4.isStackEmpty() is False):\n",
        "            stack4.popStackEl() #удаляем '(' в стаке, по которому ориентировалась проверка\n",
        "          else:\n",
        "            break\n",
        "\n",
        "  strRes = \"Баланс круглях скобок не нарушен\" if stack4.isStackEmpty() else \"Баланс круглых скобок нарушен\"\n",
        "  print (strRes)\n",
        "\n",
        "except FileNotFoundError:\n",
        "  print(\"Файл не был найден\") "
      ]
    },
    {
      "cell_type": "markdown",
      "id": "c44cdd6b",
      "metadata": {
        "id": "c44cdd6b"
      },
      "source": [
        "### Задание №5\n",
        "Дан текстовый файл с программой на алгоритмическом языке. За один просмотр файла проверить баланс квадратных скобок в тексте, используя дек."
      ]
    },
    {
      "cell_type": "code",
      "execution_count": 44,
      "id": "36b8f400",
      "metadata": {
        "id": "36b8f400",
        "colab": {
          "base_uri": "https://localhost:8080/"
        },
        "outputId": "e578ff1b-b07e-4dd5-ebe2-d0a3d508ef55"
      },
      "outputs": [
        {
          "output_type": "stream",
          "name": "stdout",
          "text": [
            "Баланс квадратных скобок не нарушен\n"
          ]
        }
      ],
      "source": [
        "try:\n",
        "  #считываем текстовый файл\n",
        "  with open(\"/content/drive/MyDrive/CIAOD and VVIT/Lab4Files/Task4JavaCode.txt\", \"r\", encoding = \"utf-8\") as codefile4:\n",
        "    stack4 = Stack()\n",
        "    for line in codefile4:\n",
        "      for el in line:\n",
        "        if (el == \"[\"):\n",
        "          stack4.addNewElStackStart(el)\n",
        "        elif (el == ']'):\n",
        "          if (stack4.isStackEmpty() is False):\n",
        "            stack4.popStackEl()\n",
        "          else:\n",
        "            break\n",
        "\n",
        "  strRes = \"Баланс квадратных скобок не нарушен\" if stack4.isStackEmpty() else \"Баланс квадратных скобок нарушен\"\n",
        "  print (strRes)\n",
        "\n",
        "except FileNotFoundError:\n",
        "  print(\"Файл не был найден\") "
      ]
    },
    {
      "cell_type": "markdown",
      "id": "59d13dc7",
      "metadata": {
        "id": "59d13dc7"
      },
      "source": [
        "### Задание №6\n",
        "Дан файл из символов. Используя стек, за один просмотр файла напечатать сначала все цифры, затем все буквы, и, наконец, все остальные символы, сохраняя исходный порядок в каждой группе символов."
      ]
    },
    {
      "cell_type": "code",
      "execution_count": null,
      "id": "297e36c2",
      "metadata": {
        "id": "297e36c2"
      },
      "outputs": [],
      "source": [
        ""
      ]
    },
    {
      "cell_type": "markdown",
      "id": "973f68bd",
      "metadata": {
        "id": "973f68bd"
      },
      "source": [
        "### Задание №7\n",
        "Дан файл из целых чисел. Используя дек, за один просмотр файла напечатать сначала все отрицательные числа, затем все положительные числа, сохраняя исходный порядок в каждой группе."
      ]
    },
    {
      "cell_type": "code",
      "execution_count": null,
      "id": "c56fad66",
      "metadata": {
        "id": "c56fad66"
      },
      "outputs": [],
      "source": [
        ""
      ]
    },
    {
      "cell_type": "markdown",
      "id": "b9228191",
      "metadata": {
        "id": "b9228191"
      },
      "source": [
        "### Задание №8\n",
        "Дан текстовый файл. Используя стек, сформировать новый текстовый файл, содержащий строки исходного файла, записанные в обратном порядке: первая строка становится последней, вторая – предпоследней и т.д."
      ]
    },
    {
      "cell_type": "code",
      "execution_count": null,
      "id": "981fbdfe",
      "metadata": {
        "id": "981fbdfe"
      },
      "outputs": [],
      "source": [
        "try:\n",
        "  #считываем текстовый файл\n",
        "  with open(\"/content/drive/MyDrive/CIAOD and VVIT/Lab4Files/Task8Lab4.txt\", \"r\", encoding = \"utf-8\") as txtfile:\n",
        "    stack8 = Stack()\n",
        "    for line in txtfile:\n",
        "        stack8.addNewElStackStart(line)\n",
        "except FileNotFoundError:\n",
        "    print(\"Файл не был найден\")\n",
        "\n",
        "try:\n",
        "  #создание/запись в новый текстовый файл\n",
        "  with open(\"/content/drive/MyDrive/CIAOD and VVIT/Lab4Files/Task8Lab4New.txt\", \"w\", encoding = \"utf-8\") as newtxtfile:\n",
        "    while (stack8.isStackEmpty() is False):\n",
        "      newtxtfile.write(stack8.popStackEl())\n",
        "except:\n",
        "    print(\"Извините, что-то пошло не так. Попробуйте ещё раз запустить ячейку\")"
      ]
    },
    {
      "cell_type": "code",
      "source": [
        "from google.colab import drive\n",
        "drive.mount('/content/drive')"
      ],
      "metadata": {
        "colab": {
          "base_uri": "https://localhost:8080/"
        },
        "id": "95QieqCaZM_G",
        "outputId": "c347fb33-db2f-4519-cc04-3ce49e06ee51"
      },
      "id": "95QieqCaZM_G",
      "execution_count": null,
      "outputs": [
        {
          "output_type": "stream",
          "name": "stdout",
          "text": [
            "Mounted at /content/drive\n"
          ]
        }
      ]
    },
    {
      "cell_type": "markdown",
      "id": "rental-jerusalem",
      "metadata": {
        "id": "rental-jerusalem"
      },
      "source": [
        "### Вывод\n"
      ]
    },
    {
      "cell_type": "markdown",
      "id": "0c2b8899",
      "metadata": {
        "id": "0c2b8899"
      },
      "source": [
        ""
      ]
    }
  ],
  "metadata": {
    "kernelspec": {
      "display_name": "Python 3 (ipykernel)",
      "language": "python",
      "name": "python3"
    },
    "language_info": {
      "codemirror_mode": {
        "name": "ipython",
        "version": 3
      },
      "file_extension": ".py",
      "mimetype": "text/x-python",
      "name": "python",
      "nbconvert_exporter": "python",
      "pygments_lexer": "ipython3",
      "version": "3.10.2"
    },
    "colab": {
      "name": "Lab4.ipynb",
      "provenance": [],
      "collapsed_sections": []
    }
  },
  "nbformat": 4,
  "nbformat_minor": 5
}