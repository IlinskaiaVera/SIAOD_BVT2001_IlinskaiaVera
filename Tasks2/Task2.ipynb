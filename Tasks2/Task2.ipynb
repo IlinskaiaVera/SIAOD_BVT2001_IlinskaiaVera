{
  "cells": [
    {
      "cell_type": "markdown",
      "id": "arctic-stocks",
      "metadata": {
        "id": "arctic-stocks"
      },
      "source": [
        "### Задание №1\n",
        "Массив A состоит из целых положительных чисел длин отрезков. Составьте из трех отрезков такой треугольник, чтобы его периметр был максимально возможным. Если невозможно составить треугольник с положительной площадью функция возвращает 0."
      ]
    },
    {
      "cell_type": "code",
      "execution_count": null,
      "id": "caring-truck",
      "metadata": {
        "scrolled": false,
        "colab": {
          "base_uri": "https://localhost:8080/"
        },
        "id": "caring-truck",
        "outputId": "f1999e53-4ade-44c1-8353-45f36af313d6"
      },
      "outputs": [
        {
          "output_type": "stream",
          "name": "stdout",
          "text": [
            "Максимальный возможный периметр заданного массива:\n",
            "8\n"
          ]
        }
      ],
      "source": [
        "mas = [3, 9, 3, 2]\n",
        "\n",
        "def findMaxPer(mas):\n",
        "  sort_mas = sorted(mas)\n",
        "\n",
        "  i = len(sort_mas) - 3 #начинаем с элемента минус 2\n",
        "  while i >= 0:\n",
        "    if (sort_mas[i] + sort_mas[i+1] > sort_mas[i+2]):\n",
        "      return sort_mas[i] + sort_mas[i+1] + sort_mas[i+2]\n",
        "    i -= 1\n",
        "  return 0\n",
        "\n",
        "print(\"Максимальный возможный периметр заданного массива:\")\n",
        "print(findMaxPer(mas))"
      ]
    },
    {
      "cell_type": "markdown",
      "id": "maritime-conversation",
      "metadata": {
        "id": "maritime-conversation"
      },
      "source": [
        "### Задание №2\n",
        "Дан массив неотрицательных целых чисел nums. Расположите их в таком порядке, чтобы вместе они образовали максимально возможное число. Замечание: Результат может быть очень большим числом, поэтому представьте его как string, а не integer."
      ]
    },
    {
      "cell_type": "code",
      "execution_count": 6,
      "id": "alert-charm",
      "metadata": {
        "scrolled": false,
        "id": "alert-charm",
        "colab": {
          "base_uri": "https://localhost:8080/"
        },
        "outputId": "ab127dc3-83f3-422b-cca3-553df54c6844"
      },
      "outputs": [
        {
          "output_type": "stream",
          "name": "stdout",
          "text": [
            "98754311\n"
          ]
        }
      ],
      "source": [
        "nums = ['7', '54', '8', '9', '31', '1']\n",
        "n = len(nums)\n",
        "lenn = 0\n",
        "new_mas = []\n",
        "\n",
        "def findMinLen():\n",
        "  min_len = 100\n",
        "  for i in nums:\n",
        "      if (len(i) < min_len): \n",
        "        min_len = len(i)\n",
        "  return min_len\n",
        "\n",
        "\n",
        "#смотрим на числа, которые начинаются с 9\n",
        "def findNum(num): \n",
        "    final_num = \"\"\n",
        "    for i in range(n):\n",
        "        #берём переменную цикла returnMaxNum и сравниваем её с первой цифрой первого элемента массива nums\n",
        "        if (nums[i][0] == str(num)): \n",
        "            new_mas.append(nums[i])\n",
        "\n",
        "    lenn = findMinLen()\n",
        "\n",
        "    if (lenn == 0): \n",
        "      return \"\"\n",
        "    while (True):\n",
        "        find = \"0\" * lenn\n",
        "        for i in new_mas:\n",
        "            #если срезы равны, то\n",
        "            #проверяется равенство среза одного числа с другим,\n",
        "            #после чего выбирается минимальное из них\n",
        "            if (int(i[0:lenn]) == int(str(find)[0:lenn])):\n",
        "                find = min(int(i), int(find))\n",
        "            #если один срез больше другого, то запоминаем\n",
        "            #число большего среза\n",
        "            if (int(i[0:lenn]) > int(str(find)[0:lenn])):\n",
        "                find = str(i)\n",
        "        if (find == \"0\" * lenn): \n",
        "          break\n",
        "        final_num += str(find)\n",
        "        new_mas.pop(new_mas.index(str(find)))\n",
        "        lenn = findMinLen()\n",
        "    return final_num\n",
        "\n",
        "\n",
        "\n",
        "result = \"\"\n",
        "#делаем переменную цикла от 9 до 1, чтобы сравнить ее с первой цифрой какого-то числа из массива\n",
        "for i in range(9, 0, -1):\n",
        "    result += findNum(i)\n",
        "print(result)\n"
      ]
    },
    {
      "cell_type": "markdown",
      "id": "catholic-roots",
      "metadata": {
        "id": "catholic-roots"
      },
      "source": [
        "### Задание №3\n",
        "Дана матрица mat размером m * n, значения целочисленные. Напишите функцию, сортирующую каждую диагональ матрицы по возрастанию и возвращающую получившуюся матрицу."
      ]
    },
    {
      "cell_type": "code",
      "execution_count": null,
      "id": "cleared-anniversary",
      "metadata": {
        "scrolled": false,
        "id": "cleared-anniversary"
      },
      "outputs": [],
      "source": [
        ""
      ]
    }
  ],
  "metadata": {
    "kernelspec": {
      "display_name": "Python 3 (ipykernel)",
      "language": "python",
      "name": "python3"
    },
    "language_info": {
      "codemirror_mode": {
        "name": "ipython",
        "version": 3
      },
      "file_extension": ".py",
      "mimetype": "text/x-python",
      "name": "python",
      "nbconvert_exporter": "python",
      "pygments_lexer": "ipython3",
      "version": "3.10.2"
    },
    "colab": {
      "name": "Task2.ipynb",
      "provenance": [],
      "collapsed_sections": []
    }
  },
  "nbformat": 4,
  "nbformat_minor": 5
}