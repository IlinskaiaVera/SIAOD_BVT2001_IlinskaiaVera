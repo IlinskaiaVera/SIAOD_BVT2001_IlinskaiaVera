{
  "cells": [
    {
      "cell_type": "markdown",
      "metadata": {
        "id": "0z3KlfKDn4_K"
      },
      "source": [
        "# Лабораторная работа 6. \n",
        "# Сетевые алгоритмы. Динамические алгоритмы поиска путей.\n"
      ]
    },
    {
      "cell_type": "markdown",
      "metadata": {
        "id": "96Gi_LEvmSVH"
      },
      "source": [
        "## Выполнил студент группы БВТ2001 Ильинская Вера"
      ]
    },
    {
      "cell_type": "markdown",
      "metadata": {
        "id": "GjdIp8aToKIe"
      },
      "source": [
        "### Задание\n",
        "\n",
        "1.  Реализовать алгоритм поиска кратчайшего расстояния между двумя вершинами ориентированного взвешенного графа в соответствии с вариантом. \n",
        "\n",
        "2.  Предусмотреть задание графа в виде матрицы смежности/инцидентности, читаемой из файла, либо графически с помощью пользовательского интерфейса. \n",
        "\n",
        "3.  Разработать графический интерфейс пользователя с визуализацией графа и отображением кратчайшего расстояния между задаваемыми пользователем вершинами.\n",
        "\n",
        "4. По результатам работы проанализировать временную сложность работы заданного алгоритма в зависимости от числа узлов и ребер графа.\n",
        "Данные представить в виде таблицы.\n",
        "\n"
      ]
    },
    {
      "cell_type": "markdown",
      "metadata": {
        "id": "LhhUXrAmotIA"
      },
      "source": [
        "### Алгоритмы:\n",
        "\n",
        "Алгоритм Флойда-Уоршелла| Алгоритм Дейкстры | Алгоритм Беллмана-Форда | Алгоритм Джонсона| Алгоритм Левита | Алгоритм Йена\n",
        "\n"
      ]
    },
    {
      "cell_type": "markdown",
      "metadata": {
        "id": "Wggfn8l7nG72"
      },
      "source": [
        "### Выполнение:"
      ]
    },
    {
      "cell_type": "code",
      "source": [
        "from google.colab import drive\n",
        "drive.mount('/content/drive')"
      ],
      "metadata": {
        "colab": {
          "base_uri": "https://localhost:8080/"
        },
        "id": "0HuaxnRM-2Es",
        "outputId": "1fff5d56-5064-487f-b926-f423f1c4fcc2"
      },
      "execution_count": 3,
      "outputs": [
        {
          "output_type": "stream",
          "name": "stdout",
          "text": [
            "Mounted at /content/drive\n"
          ]
        }
      ]
    },
    {
      "cell_type": "markdown",
      "source": [
        "###Алгоритм Флойда-Уоршелла"
      ],
      "metadata": {
        "id": "4eXDGtSRQEq0"
      }
    },
    {
      "cell_type": "code",
      "source": [
        "#дополнение матрицы дорог кратчайшими расстояниями между всеми вершинами взвешенного ориентированного графа\n",
        "#ищем новые маршруты между точками через доп.вершиены (может работать с отрицательными дугами, но с ними в итоге получаются страааанные вещи)\n",
        "\n",
        "import math\n",
        "import networkx as nx\n",
        "import matplotlib.pyplot as plt\n",
        "import numpy as np\n",
        "import time\n",
        "\n",
        "try:\n",
        "  #считываем текстовый файл\n",
        "  with open(\"/content/drive/MyDrive/CIAOD and VVIT/Lab6Files/FloUorAlgo.txt\", \"r\", encoding = \"utf-8\") as fileFloUor:\n",
        "    matrix = [[int(num) for num in line.split(',')] for line in fileFloUor] #загружаем матрицу дорог графа\n",
        "\n",
        "    #ниже на нулях в матрице (кроме j) ставила бесконечность, т.к иначе всё работает не правильно\n",
        "    for i in range(len(matrix)):\n",
        "      for j in range(len(matrix[i])):\n",
        "          if (i!=j and matrix[i][j] == 0):\n",
        "              matrix[i][j] = math.inf\n",
        "    \n",
        "    #вывод начальной матрицы (теперь с inf вместо нулей)\n",
        "    print(\"Матрица дорог (вершины 0-7): \")\n",
        "    for i in matrix:\n",
        "      print(i)\n",
        "    \n",
        "    N = len(matrix) #число вершин\n",
        "    # T = [[matrix for matrix in range(N)] for u in range(N)] #список промежуточных вершин, через которые проходим\n",
        "\n",
        "    start_time = time.perf_counter() \n",
        "\n",
        "    #сам алгоритм \n",
        "    for k in range(N):\n",
        "      for i in range(N):\n",
        "        for j in range(N):\n",
        "          point = matrix[i][k] + matrix[k][j] #определяем длину маршрута через доп.вершину\n",
        "          if (matrix[i][j] > point): #если длина данного маршрута меньше того, что прописан в матрице (и тем более если в матрице его нету)\n",
        "            matrix[i][j] = point #дополняем и заменяем в матрице дорог маршрут\n",
        "            # T[i][j] = point #записываем в список номер вершины, через которую нужно пройти, чтобы дойти из точки j в точку i (вершина k)\n",
        "    \n",
        "    final_time = time.perf_counter()\n",
        "    time1 = (final_time-start_time)/0.10 \n",
        "    \n",
        "    #после того, как выполнили алгоритм, выводим дополненную матрицу дорог\n",
        "    print(\"\\nДополненная матрица дорог со всеми возможными дорогами от всех точек до всех: \")\n",
        "    for i in matrix:\n",
        "      print(i)\n",
        "    \n",
        "    print(\"\\nГраф всех возможных путей: \")\n",
        "    #отрисовка графа со всеми маршрутами\n",
        "    graph = nx.Graph(np.matrix(matrix))\n",
        "    nx.draw(graph, pos = nx.spring_layout(graph), edge_color = 'b', node_color = 'r', with_labels = True, node_size = 1000, arrows = True)\n",
        "\n",
        "except FileNotFoundError:\n",
        "  print(\"Файл не был найден\") "
      ],
      "metadata": {
        "id": "8kbtny4UQDtz",
        "colab": {
          "base_uri": "https://localhost:8080/",
          "height": 702
        },
        "outputId": "116408ea-41fd-4008-a245-71ddf25d6b42"
      },
      "execution_count": 105,
      "outputs": [
        {
          "output_type": "stream",
          "name": "stdout",
          "text": [
            "Матрица дорог (вершины 0-7): \n",
            "[0, 2, inf, 3, 1, inf, inf, 10]\n",
            "[2, 0, 4, inf, inf, inf, inf, inf]\n",
            "[inf, 4, 0, inf, inf, inf, inf, 3]\n",
            "[3, inf, inf, 0, inf, inf, inf, 8]\n",
            "[1, inf, inf, inf, 0, 2, inf, inf]\n",
            "[inf, inf, inf, inf, 2, 0, 3, inf]\n",
            "[inf, inf, inf, inf, inf, 3, 0, 1]\n",
            "[10, inf, 3, 8, inf, inf, 1, 0]\n",
            "\n",
            "Дополненная матрица дорог со всеми возможными дорогами от всех точек до всех: \n",
            "[0, 2, 6, 3, 1, 3, 6, 7]\n",
            "[2, 0, 4, 5, 3, 5, 8, 7]\n",
            "[6, 4, 0, 9, 7, 7, 4, 3]\n",
            "[3, 5, 9, 0, 4, 6, 9, 8]\n",
            "[1, 3, 7, 4, 0, 2, 5, 6]\n",
            "[3, 5, 7, 6, 2, 0, 3, 4]\n",
            "[6, 8, 4, 9, 5, 3, 0, 1]\n",
            "[7, 7, 3, 8, 6, 4, 1, 0]\n",
            "\n",
            "Граф всех возможных путей: \n"
          ]
        },
        {
          "output_type": "display_data",
          "data": {
            "text/plain": [
              "<Figure size 432x288 with 1 Axes>"
            ],
            "image/png": "[encoded data removed]"
          },
          "metadata": {}
        }
      ]
    },
    {
      "cell_type": "markdown",
      "source": [
        "###Алгоритм Дейкстры"
      ],
      "metadata": {
        "id": "SDwZz7Ms8xEh"
      }
    },
    {
      "cell_type": "code",
      "source": [
        "#алгоритм нахождения кратчайших путей от вершины 0 до всех остальных вершин\n",
        "\n",
        "import math\n",
        "import networkx as nx\n",
        "import matplotlib.pyplot as plt\n",
        "import time\n",
        "\n",
        "try:\n",
        "  #считываем текстовый файл\n",
        "  with open(\"/content/drive/MyDrive/CIAOD and VVIT/Lab6Files/DijkstraAlgo.txt\", \"r\", encoding = \"utf-8\") as fileDij:\n",
        "    matrix = [[int(num) for num in line.split(',')] for line in fileDij] #загружаем матрицу дорог графа\n",
        "\n",
        "    #отображение матрицы дорог (тут не понадобилось нули заменять на inf)\n",
        "    print(\"Матрица дорог (вершины 0-5): \")\n",
        "    for i in matrix:\n",
        "      print(i)\n",
        "    \n",
        "    # print(\"\\nОтображение графа: \")\n",
        "    # G = nx.Graph()\n",
        "    # G.add_edges_from([(1,2),(1,3),(1,4),(2,3),(3,5),(3,6),(4,6),(5,6)])\n",
        "    # nx.draw(G, with_labels = True, edge_color = 'b', node_color = 'r', node_size = 1000, arrows = True)\n",
        "    # plt.show()\n",
        "\n",
        "    #метод перебора всех связанных вершин\n",
        "    #просматриваем все веса других, связанных с startV, вершин, и возвращаем вершину с мин.значением\n",
        "    def getLinkWithV(startV, matrix):\n",
        "      for i, weight in enumerate(matrix[startV]): #берём веса из матрицы\n",
        "        if (weight > 0):\n",
        "          yield i\n",
        "\n",
        "    #метод нахождения в матрице вершины с мин.весом (для изменения startV)\n",
        "    def findMinWei(T, viewedV):\n",
        "      amin = -1 #начальный минимум, начальное состояние\n",
        "      m = max(T) #находим макс.значение финимальной строки длин дорог\n",
        "      for i, t in enumerate(T):\n",
        "        if (t < m and i not in viewedV): #находим мин.значение вершин, которые не были ещё рассмотрены\n",
        "            m = t\n",
        "            amin = i\n",
        "      return amin #возвращаем вершину с мин.значением\n",
        "\n",
        "    def DejAlgo(matrix, start, fin):\n",
        "      N = fin + 1\n",
        "      T = [math.inf] * N #финальная строка длин дорог (inf - бесконечность)\n",
        "      startV = start #стартовая вершина\n",
        "      viewedV = {startV} #множество просмотренных вершин (в зависимости от стартовой вершины)\n",
        "      T[startV] = 0 #нулевой вес стартовой вершины должен быть равен 0!\n",
        "\n",
        "      #заполяем T-табличку мин.весами\n",
        "      while (startV != -1): #цикл для прохождению по вершинам (если -1, то по всем вершинам прошли)\n",
        "        for j in getLinkWithV(startV, matrix): #перебераем все связанные вершины с вершиной startV\n",
        "          if (j not in viewedV): #если рассматриваемая строка таблицы не была просмотрена\n",
        "            wei = T[startV] + matrix[startV][j] #получаем путь, что прошли до минимальной вершины\n",
        "            if (wei < T[j]): #если вес меньше последней позиции нашей финальной строки\n",
        "              T[j] = wei #присваиваем минимальное значение, то есть меняем мин.длину\n",
        "        #должны найти мин.аргумент между последней строчкой и множеством, что уже было просмотрено\n",
        "        startV = findMinWei(T, viewedV) #находим мин.значение вершины\n",
        "        if (startV > 0):\n",
        "          viewedV.add(startV)\n",
        "      return(T)\n",
        "\n",
        "    print(\"\\nДлины кратчайших путей от вершины 0 до всех остальных вершин соотвественно: \")\n",
        "\n",
        "    start_time = time.perf_counter() \n",
        "\n",
        "    print(DejAlgo(matrix, 0, 5)) \n",
        "\n",
        "    final_time = time.perf_counter()\n",
        "    time2 = (final_time-start_time)/0.10\n",
        "    \n",
        "\n",
        "    # print(\"\\nОтображение кратчайшего расстояния между вершиной 1 и всеми остальными вершинами: \")\n",
        "    # G = nx.Graph()\n",
        "    # G.add_edge('1', '2', width = 10)  \n",
        "    # G.add_edge('1', '4', width = 1.0)  \n",
        "    # nx.draw(G, with_labels = True, edge_color = 'b', node_color = 'r', node_size = 1000)\n",
        "    # plt.show()\n",
        "    \n",
        "    print(\"\\nГраф путей: \")\n",
        "    #отрисовка графа маршрутов\n",
        "    graph = nx.Graph(np.matrix(matrix))\n",
        "    nx.draw(graph, pos = nx.spring_layout(graph), edge_color = 'b', node_color = 'r', with_labels = True, node_size = 1000, arrows = True)\n",
        "    \n",
        "\n",
        "except FileNotFoundError:\n",
        "  print(\"Файл не был найден\") "
      ],
      "metadata": {
        "colab": {
          "base_uri": "https://localhost:8080/",
          "height": 538
        },
        "id": "aqmxe3qo8viD",
        "outputId": "91694810-160e-49bd-cffc-2f2c2ec490ce"
      },
      "execution_count": 104,
      "outputs": [
        {
          "output_type": "stream",
          "name": "stdout",
          "text": [
            "Матрица дорог (вершины 0-5): \n",
            "[0, 3, 1, 3, 0, 0]\n",
            "[3, 0, 4, 0, 0, 0]\n",
            "[1, 4, 0, 0, 7, 5]\n",
            "[3, 0, 0, 0, 0, 2]\n",
            "[0, 0, 7, 0, 0, 4]\n",
            "[0, 0, 5, 2, 4, 0]\n",
            "\n",
            "Длины кратчайших путей от вершины 0 до всех остальных вершин соотвественно: \n",
            "[0, 3, 1, 3, 8, 5]\n",
            "\n",
            "Граф путей: \n"
          ]
        },
        {
          "output_type": "display_data",
          "data": {
            "text/plain": [
              "<Figure size 432x288 with 1 Axes>"
            ],
            "image/png": "[encoded data removed]"
          },
          "metadata": {}
        }
      ]
    },
    {
      "cell_type": "code",
      "source": [
        "#иная реализация алгоритма Дейкстры, который возвращает кратчайшие пути\n",
        "#от 0 до всех остальных вершин, и точки, что входят в эти пути\n",
        "#(нужно в алгоритме Джонсона)\n",
        "\n",
        "import math\n",
        "\n",
        "def anotherDejAlgo(matrix, start):\n",
        "  fullDist = [math.inf for item in matrix]\n",
        "  fullDist[start] = 0 #нулевой вес стартовой вершины\n",
        "  startV = start\n",
        "  # paths = [[start] for item in matrix]\n",
        "  nextV = fullDist.copy()\n",
        "  for k in range(len(fullDist)):\n",
        "      for i in range(len(fullDist)):  \n",
        "          if matrix[startV][i] != math.inf and fullDist[startV] != math.inf and fullDist[i] > matrix[startV][i] + fullDist[startV]:\n",
        "              fullDist[i] = matrix[startV][i] + fullDist[startV]\n",
        "              nextV[i] = fullDist[i]\n",
        "              # paths[i] = paths[startV].copy()\n",
        "              # paths[i].append(i)\n",
        "      nextV[startV] = math.inf\n",
        "      startV = min(range(len(nextV)), key = nextV.__getitem__)\n",
        "  return fullDist\n",
        "\n",
        "fullDist = anotherDejAlgo(matrix, 0)\n",
        "print(\"Длины кратчайших путей от вершины 0 до всех остальных вершин соотвественно: \")\n",
        "print(fullDist)"
      ],
      "metadata": {
        "colab": {
          "base_uri": "https://localhost:8080/"
        },
        "id": "sjELjfzjn3JG",
        "outputId": "aa550038-6219-47f7-8e17-df2c915f3f07"
      },
      "execution_count": 103,
      "outputs": [
        {
          "output_type": "stream",
          "name": "stdout",
          "text": [
            "Длины кратчайших путей от вершины 0 до всех остальных вершин соотвественно: \n",
            "[0, 3, 1, 3, 8, 5]\n"
          ]
        }
      ]
    },
    {
      "cell_type": "markdown",
      "source": [
        "###Алгоритм Беллмана-Форда"
      ],
      "metadata": {
        "id": "dlwKfT92P1D1"
      }
    },
    {
      "cell_type": "code",
      "source": [
        "#для нахождения кратчайшего пути от стартовой вершины до всех других вершин (похоже на Дейкстры)\n",
        "#можем работать с графами, в которых есть отрицательные рёбра \n",
        "\n",
        "import math\n",
        "import networkx as nx\n",
        "import matplotlib.pyplot as plt\n",
        "import numpy as np\n",
        "import time\n",
        "\n",
        "try:\n",
        "  #считываем текстовый файл\n",
        "  with open(\"/content/drive/MyDrive/CIAOD and VVIT/Lab6Files/DijkstraAlgo.txt\", \"r\", encoding = \"utf-8\") as fileBF: #использую тот же файл, что и для Дейкстры\n",
        "    matrix = [[int(num) for num in line.split(',')] for line in fileBF] #загружаем матрицу дорог графа\n",
        "\n",
        "    #отрисовка графа маршрутов (вставлю тут, так как всё равно нарисуется после всего кода, а если вставить в конце, то не хочет работать)\n",
        "    graph = nx.Graph(np.matrix(matrix))\n",
        "    nx.draw(graph, pos = nx.spring_layout(graph), edge_color = 'b', node_color = 'r', with_labels = True, node_size = 1000, arrows = True)\n",
        "\n",
        "    print(\"Матрица дорог (вершины 0-5): \")\n",
        "    for i in matrix:\n",
        "      print(i)\n",
        "\n",
        "    #ниже на нулях в матрице (кроме j) ставила бесконечность, т.к иначе всё работает не правильно\n",
        "    for i in range(len(matrix)):\n",
        "      for j in range(len(matrix[i])):\n",
        "          if (i!=j and matrix[i][j] == 0):\n",
        "              matrix[i][j] = math.inf\n",
        "\n",
        "    def BelFordAlgo(matrix, start, fin):\n",
        "\n",
        "      startV = start #стартовая вершина\n",
        "\n",
        "      # N = len(matrix) #число вершин в нашем графе\n",
        "      N = fin + 1\n",
        "      T = [math.inf] * N #финальная строка длин дорог (inf - бесконечность)\n",
        "      T[startV] = 0\n",
        "\n",
        "      #пересчёт финального массива путей\n",
        "      for k in range(1, N):\n",
        "          for i in range(N):\n",
        "              for j in range(N):\n",
        "                  if (T[j] + matrix[j][i] < T[i]):\n",
        "                      T[i] = T[j] + matrix[j][i]\n",
        "      return(T)\n",
        "\n",
        "  print(\"\\nДлины кратчайших путей от вершины 0 до вершины N включительно: \")\n",
        "\n",
        "  start_time = time.perf_counter() \n",
        "\n",
        "  print(BelFordAlgo(matrix, 0, 5))\n",
        "\n",
        "  final_time = time.perf_counter()\n",
        "  time3 = (final_time-start_time)/0.10\n",
        "\n",
        "  print(\"\\nГраф путей: \")\n",
        "\n",
        "except FileNotFoundError:\n",
        "  print(\"Файл не был найден\") "
      ],
      "metadata": {
        "colab": {
          "base_uri": "https://localhost:8080/",
          "height": 538
        },
        "id": "9R3Z4OyMP5k1",
        "outputId": "c78b59d6-5f35-43b5-b07d-9d6df9883f01"
      },
      "execution_count": 106,
      "outputs": [
        {
          "output_type": "stream",
          "name": "stdout",
          "text": [
            "Матрица дорог (вершины 0-5): \n",
            "[0, 3, 1, 3, 0, 0]\n",
            "[3, 0, 4, 0, 0, 0]\n",
            "[1, 4, 0, 0, 7, 5]\n",
            "[3, 0, 0, 0, 0, 2]\n",
            "[0, 0, 7, 0, 0, 4]\n",
            "[0, 0, 5, 2, 4, 0]\n",
            "\n",
            "Длины кратчайших путей от вершины 0 до вершины N включительно: \n",
            "[0, 3, 1, 3, 8, 5]\n",
            "\n",
            "Граф путей: \n"
          ]
        },
        {
          "output_type": "display_data",
          "data": {
            "text/plain": [
              "<Figure size 432x288 with 1 Axes>"
            ],
            "image/png": "[encoded data removed]"
          },
          "metadata": {}
        }
      ]
    },
    {
      "cell_type": "code",
      "source": [
        "#иная реализация алгоритма Беллмана-Форда, который возвращает кратчайшие пути\n",
        "#от 0 до всех остальных вершин, и точки, что входят в эти пути\n",
        "#(нужно в алгоритме Джонсона и Йена)\n",
        "\n",
        "import math\n",
        "\n",
        "def anotherBellFordAlgo(matrix, start): #для примера взяла матрицу из начального алгоритма Беллмана-Форда\n",
        "    #расстояния от исходной вершины до всех остальных\n",
        "    fullDist = [math.inf for item in matrix]\n",
        "    fullDist[start] = 0\n",
        "    paths = [[start] for item in matrix]\n",
        "    for i in range(len(matrix)):\n",
        "      for u in range(len(matrix)):\n",
        "        for v in range(len(matrix)):\n",
        "          #проверка на отрицательное значение\n",
        "          if (fullDist[u] != math.inf and matrix[u][v] != math.inf and fullDist[v] > fullDist[u] + matrix[u][v]):\n",
        "              fullDist[v] = fullDist[u] + matrix[u][v]\n",
        "              paths[v] = paths[u].copy()\n",
        "              paths[v].append(v)\n",
        "    return fullDist, paths\n",
        "\n",
        "fullDist, paths = anotherBellFordAlgo(matrix, 0)\n",
        "print(\"Длины кратчайших путей от вершины 0 до всех остальных вершин соотвественно: \")\n",
        "print(fullDist)\n",
        "print(\"Вершины, что образуют эти пути: \")\n",
        "print(paths)"
      ],
      "metadata": {
        "colab": {
          "base_uri": "https://localhost:8080/"
        },
        "id": "9Q3u83qwB17l",
        "outputId": "60f31893-09b4-4747-adfe-5aeb58fe3607"
      },
      "execution_count": 107,
      "outputs": [
        {
          "output_type": "stream",
          "name": "stdout",
          "text": [
            "Длины кратчайших путей от вершины 0 до всех остальных вершин соотвественно: \n",
            "[0, 3, 1, 3, 8, 5]\n",
            "Вершины, что образуют эти пути: \n",
            "[[0], [0, 1], [0, 2], [0, 3], [0, 2, 4], [0, 3, 5]]\n"
          ]
        }
      ]
    },
    {
      "cell_type": "markdown",
      "source": [
        "###Алгоритм Джонсона"
      ],
      "metadata": {
        "id": "CSsG3MC3scN9"
      }
    },
    {
      "cell_type": "code",
      "source": [
        "#как и в Флойда-Уоршелла, находим кратчайшие пути между всеми парами вершин во взвешенном ориентированном графе \n",
        "#(также с возможностью работы с отрицательными весами)\n",
        "#в данном алгоритме применяется алгоритм Беллмана-Форда и Дейкстры\n",
        "\n",
        "import math\n",
        "import networkx as nx\n",
        "import matplotlib.pyplot as plt\n",
        "import numpy as np\n",
        "\n",
        "try:\n",
        "  #считываем текстовый файл\n",
        "  with open(\"/content/drive/MyDrive/CIAOD and VVIT/Lab6Files/FloUorAlgo.txt\", \"r\", encoding = \"utf-8\") as fileDjo: #использую тот же файл, что и для алгоритма Флойда-Уоршелла\n",
        "    matrix = [[int(num) for num in line.split(',')] for line in fileDjo] #загружаем матрицу дорог графа\n",
        "    n = len(matrix)\n",
        "\n",
        "    #ниже на нулях в матрице (кроме j) ставила бесконечность, т.к иначе всё работает не правильно\n",
        "    for i in range(len(matrix)):\n",
        "      for j in range(len(matrix[i])):\n",
        "          if (i != j and matrix[i][j] == 0):\n",
        "              matrix[i][j] = math.inf\n",
        "    \n",
        "    print(\"Матрица дорог (вершины 0-5): \")\n",
        "    for i in matrix:\n",
        "      print(i)\n",
        "\n",
        "\n",
        "    def jonsonAlgo(matrix):\n",
        "      new_mat = matrix.copy() \n",
        "      for item in new_mat:\n",
        "          item.append(math.inf) \n",
        "      new_mat.append([]) #для избежания отрицательных значений добавляем дополнительный столбец и строку\n",
        "      for i in range(len(new_mat)):\n",
        "          new_mat[-1].append(0)\n",
        "      dist, paths = anotherBellFordAlgo(new_mat, len(new_mat) - 1) #находим первый кратчайший путь\n",
        "      #обновляем кратчайшие пути в матрице\n",
        "      for i in range(len(matrix)):\n",
        "          for j in range(len(matrix)):\n",
        "              if (matrix[i][j] != math.inf and dist[i] != math.inf and dist[j] != math.inf):\n",
        "                  matrix[i][j] += dist[i] - dist[j]\n",
        "      result = []\n",
        "      for i in range(len(matrix)):\n",
        "              distDej = anotherDejAlgo(matrix, i) #проводим матрицу через алгоритм Дейкстры\n",
        "              result.append(distDej)\n",
        "      #снова обновляем кратчайшие пути в матрице\n",
        "      for i in range(len(matrix)):\n",
        "          for j in range(len(matrix)):\n",
        "              if result[i][j] != math.inf and dist[i] != math.inf and dist[j] != math.inf:\n",
        "                  result[i][j] +=  dist[j] - dist[i]\n",
        "      return result\n",
        "\n",
        "    start_time = time.perf_counter() \n",
        "\n",
        "    fullMat = jonsonAlgo(matrix)\n",
        "\n",
        "    final_time = time.perf_counter()\n",
        "    time4 = (final_time-start_time)/0.10\n",
        "\n",
        "    #после того, как выполнили алгоритм, выводим дополненную матрицу дорог\n",
        "    print(\"\\nДополненная матрица дорог со всеми возможными дорогами от всех точек до всех: \")\n",
        "    for i in fullMat:\n",
        "      print(i)\n",
        "\n",
        "    print(\"\\nГраф всех возможных путей: \")\n",
        "    #отрисовка графа со всеми маршрутами\n",
        "    graph = nx.Graph(np.matrix(fullMat))\n",
        "    nx.draw(graph, pos = nx.spring_layout(graph), edge_color = 'b', node_color = 'r', with_labels = True, node_size = 1000, arrows = True)\n",
        "\n",
        "except FileNotFoundError:\n",
        "  print(\"Файл не был найден\") "
      ],
      "metadata": {
        "id": "PZ3ICEzKsgY0",
        "colab": {
          "base_uri": "https://localhost:8080/",
          "height": 702
        },
        "outputId": "a4ccc9d3-8991-46db-eda0-82b2f875506b"
      },
      "execution_count": 108,
      "outputs": [
        {
          "output_type": "stream",
          "name": "stdout",
          "text": [
            "Матрица дорог (вершины 0-5): \n",
            "[0, 2, inf, 3, 1, inf, inf, 10]\n",
            "[2, 0, 4, inf, inf, inf, inf, inf]\n",
            "[inf, 4, 0, inf, inf, inf, inf, 3]\n",
            "[3, inf, inf, 0, inf, inf, inf, 8]\n",
            "[1, inf, inf, inf, 0, 2, inf, inf]\n",
            "[inf, inf, inf, inf, 2, 0, 3, inf]\n",
            "[inf, inf, inf, inf, inf, 3, 0, 1]\n",
            "[10, inf, 3, 8, inf, inf, 1, 0]\n",
            "\n",
            "Дополненная матрица дорог со всеми возможными дорогами от всех точек до всех: \n",
            "[0, 2, 6, 3, 1, 3, 6, 7]\n",
            "[2, 0, 4, 5, 3, 5, 8, 7]\n",
            "[6, 4, 0, 9, 7, 7, 4, 3]\n",
            "[3, 5, 9, 0, 4, 6, 9, 8]\n",
            "[1, 3, 7, 4, 0, 2, 5, 6]\n",
            "[3, 5, 7, 6, 2, 0, 3, 4]\n",
            "[6, 8, 4, 9, 5, 3, 0, 1]\n",
            "[7, 7, 3, 8, 6, 4, 1, 0]\n",
            "\n",
            "Граф всех возможных путей: \n"
          ]
        },
        {
          "output_type": "display_data",
          "data": {
            "text/plain": [
              "<Figure size 432x288 with 1 Axes>"
            ],
            "image/png": "[encoded data removed]"
          },
          "metadata": {}
        }
      ]
    },
    {
      "cell_type": "markdown",
      "source": [
        "###Алгоритм Левита"
      ],
      "metadata": {
        "id": "_M1L-97EK0wj"
      }
    },
    {
      "cell_type": "code",
      "source": [
        "#алгоритм нахождения кратчайшего пути от стартовой вершины до всех других вершин\n",
        "#используя три множества m0,m1,m2\n",
        "\n",
        "import math\n",
        "import networkx as nx\n",
        "import matplotlib.pyplot as plt\n",
        "import time\n",
        "\n",
        "try:\n",
        "  #считываем текстовый файл\n",
        "  with open(\"/content/drive/MyDrive/CIAOD and VVIT/Lab6Files/DijkstraAlgo.txt\", \"r\", encoding = \"utf-8\") as fileDij:\n",
        "    matrix = [[int(num) for num in line.split(',')] for line in fileDij] #загружаем матрицу дорог графа\n",
        "\n",
        "    #отображение матрицы дорог (тут не понадобилось нули заменять на inf)\n",
        "    print(\"Матрица дорог (вершины 0-5): \")\n",
        "    for i in matrix:\n",
        "      print(i)\n",
        "    \n",
        "    #отрисовка графа маршрутов (вставлю тут, так как всё равно нарисуется после всего кода, а если вставить в конце, то не хочет работать)\n",
        "    graph = nx.Graph(np.matrix(matrix))\n",
        "    nx.draw(graph, pos = nx.spring_layout(graph), edge_color = 'b', node_color = 'r', with_labels = True, node_size = 1000, arrows = True)\n",
        "    \n",
        "    #ниже на нулях в матрице (кроме j) ставила бесконечность, т.к иначе всё работает не правильно\n",
        "    for i in range(len(matrix)):\n",
        "      for j in range(len(matrix[i])):\n",
        "        if (i!=j and matrix[i][j] == 0):\n",
        "              matrix[i][j] = math.inf\n",
        "    \n",
        "    def LevitAlgo(matrix, start):\n",
        "      T = [math.inf for item in matrix]\n",
        "      T[start] = 0 #массив текущих кратчайших путей\n",
        "      m0 = set() #set вершин, расстояние до которых уже было вычислено\n",
        "      m1 = {'main': [start], 'urgent': []} #вершины, расстояние до которых ещё вычисляется, с подочередями: основная очередь и очередь с приоритетом\n",
        "      m2 = set(range(len(matrix))) #вершины, расстояние до которых ещё не вычислено (сюда и помещаем все значения изначально)\n",
        "      m2.remove(start)\n",
        "      while (len(m1['main']) or len(m1['urgent'])): \n",
        "          i = None\n",
        "          if (len(m1['urgent'])): #если срочная очередь не пуста\n",
        "              i = m1['urgent'].pop(0)\n",
        "          else:\n",
        "              i = m1['main'].pop(0)\n",
        "          for v in range(len(matrix)):\n",
        "              if (T[i] == math.inf or matrix[i][v] == math.inf):\n",
        "                  continue\n",
        "              #если вершина v принадлежит m2, то v переносим в m1 в конец\n",
        "              if (v in m2):\n",
        "                  m2.remove(v)\n",
        "                  m1['main'].append(v)\n",
        "                  T[v] = min(T[v], T[i] + matrix[i][v])\n",
        "              #если вершина v принадлежит m1, то пытаемся изначенить значение T[v] (то есть сделать короче)\n",
        "              elif (v in m1['main'] or v in m1['urgent']):\n",
        "                  T[v] = min(T[v], T[i] + matrix[i][v])\n",
        "              #если вершина v принадлежит m0, и если T[v] можно сделать короче\n",
        "              elif v in m0 and T[v] > T[i] + matrix[i][v]:\n",
        "                  m0.remove(v)\n",
        "                  m1['urgent'].append(v) #улучшаем T[v], вершину v возвращаем в множество m1 в начало\n",
        "                  T[v] = T[i] + matrix[i][v]\n",
        "          m0.add(i)\n",
        "      return T\n",
        "    \n",
        "    start_time = time.perf_counter() \n",
        "\n",
        "    fullDist = LevitAlgo(matrix, 0)\n",
        "\n",
        "    final_time = time.perf_counter()\n",
        "    time5 = (final_time-start_time)/0.10\n",
        "\n",
        "    print(\"\\nДлины кратчайших путей от вершины 0 до всех остальных вершин соотвественно: \")\n",
        "    print(fullDist)\n",
        "\n",
        "    print(\"\\nГраф путей: \")\n",
        "    \n",
        "\n",
        "except FileNotFoundError:\n",
        "  print(\"Файл не был найден\") "
      ],
      "metadata": {
        "colab": {
          "base_uri": "https://localhost:8080/",
          "height": 538
        },
        "id": "1SoRU5r2Kzzk",
        "outputId": "5ffdbc8e-e2c4-481f-8bb2-7f27666ce90d"
      },
      "execution_count": 109,
      "outputs": [
        {
          "output_type": "stream",
          "name": "stdout",
          "text": [
            "Матрица дорог (вершины 0-5): \n",
            "[0, 3, 1, 3, 0, 0]\n",
            "[3, 0, 4, 0, 0, 0]\n",
            "[1, 4, 0, 0, 7, 5]\n",
            "[3, 0, 0, 0, 0, 2]\n",
            "[0, 0, 7, 0, 0, 4]\n",
            "[0, 0, 5, 2, 4, 0]\n",
            "\n",
            "Длины кратчайших путей от вершины 0 до всех остальных вершин соотвественно: \n",
            "[0, 3, 1, 3, 8, 5]\n",
            "\n",
            "Граф путей: \n"
          ]
        },
        {
          "output_type": "display_data",
          "data": {
            "text/plain": [
              "<Figure size 432x288 with 1 Axes>"
            ],
            "image/png": "[encoded data removed]"
          },
          "metadata": {}
        }
      ]
    },
    {
      "cell_type": "markdown",
      "source": [
        "###Алгоритм Йена"
      ],
      "metadata": {
        "id": "JMJ3SpJD-9t8"
      }
    },
    {
      "cell_type": "code",
      "source": [
        "#алгоритм для нахождения длин кратчайшех путей из одной вершины в другую\n",
        "#используем тут также алгоритм Белллмана-Форда, так как нам нужно будет находить один кратчайший путь в графе\n",
        "\n",
        "import math\n",
        "import networkx as nx\n",
        "import matplotlib.pyplot as plt\n",
        "import numpy as np\n",
        "import time\n",
        "\n",
        "try:\n",
        "  with open(\"/content/drive/MyDrive/CIAOD and VVIT/Lab6Files/DijkstraAlgo.txt\", \"r\", encoding = \"utf-8\") as fileBF: #использую тот же файл, что и для Дейкстры\n",
        "      matrix = [[int(num) for num in line.split(',')] for line in fileBF] #загружаем матрицу дорог графа\n",
        "\n",
        "      #отрисовка графа маршрутов (вставлю тут, так как всё равно нарисуется после всего кода, а если вставить в конце, то не хочет работать)\n",
        "      graph = nx.Graph(np.matrix(matrix))\n",
        "      nx.draw(graph, pos = nx.spring_layout(graph), edge_color = 'b', node_color = 'r', with_labels = True, node_size = 1000, arrows = True)\n",
        "\n",
        "      #вывод начальной матрицы путей\n",
        "      print(\"Матрица дорог (вершины 0-5): \")\n",
        "      for i in matrix:\n",
        "        print(i)\n",
        "\n",
        "      #ниже на нулях в матрице (кроме j) ставила бесконечность, т.к иначе всё работает не правильно\n",
        "      for i in range(len(matrix)):\n",
        "        for j in range(len(matrix[i])):\n",
        "            if (i!=j and matrix[i][j] == 0):\n",
        "                matrix[i][j] = math.inf\n",
        "\n",
        "      def YenAlgo(matrix, start, finish, pathsShorten):\n",
        "          candidates = set() #список кандидатов в кратчайшие пути\n",
        "          fullDist, paths = anotherBellFordAlgo(matrix, start) #находим первый кратчайший путь\n",
        "          resultDist = [fullDist[finish]] #массив длинн (результирующий)\n",
        "          resultPaths = [paths[finish]] #массив вершин, образующие пути\n",
        "\n",
        "          for shortP in range(1, pathsShorten): #ищем столько кротчайших путей, сколько было задано в методе\n",
        "            newMat = matrix\n",
        "            for i in range(len(resultPaths[-1]) - 1):\n",
        "              spurNode = resultPaths[-1][i] \n",
        "              rootPath = resultPaths[-1][:i + 1]\n",
        "\n",
        "              for path in resultPaths:\n",
        "                if (rootPath == path[:i + 1]):\n",
        "                  newMat[path[i]][path[i + 1]] = math.inf\n",
        "              \n",
        "              for node in rootPath:\n",
        "                if (node != spurNode):\n",
        "                    newMat[node] = [math.inf for j in range(len(matrix))]\n",
        "              fullDist, paths = anotherBellFordAlgo(matrix, start) #определяем новый кратчайший путь\n",
        "              spurPath = paths[finish][1:]\n",
        "              if len(spurPath) == 0:\n",
        "                  continue\n",
        "              totalPath = rootPath\n",
        "              totalPath.extend(spurPath)\n",
        "              totalPath = tuple(totalPath) #делаем кортеж путей, дабы добавить их в список кандидатов\n",
        "              totalDist = 0\n",
        "\n",
        "              for j in range(1, len(totalPath)):\n",
        "                  totalDist += matrix[totalPath[j - 1]][totalPath[j]] \n",
        "              candidates.add((totalPath, totalDist)) #добавляем найденные длинны и пути в список кандидатов\n",
        "            if not len(candidates):\n",
        "                break\n",
        "            candidates_l = list(candidates)\n",
        "            candidates_l.sort(key = lambda x: x[1])\n",
        "            \n",
        "            resultPaths.append(list(candidates_l[0][0]))\n",
        "            resultDist.append(candidates_l[0][1])\n",
        "            \n",
        "            candidates.remove(candidates_l[0]) #удаляем первое ребро, чтобы пути не совпадали\n",
        "                    \n",
        "          return resultDist, resultPaths\n",
        "\n",
        "      start_time = time.perf_counter() \n",
        "\n",
        "      dist, paths = YenAlgo(matrix, 0, 3, 3)\n",
        "\n",
        "      final_time = time.perf_counter()\n",
        "      time6 = (final_time-start_time)/0.10\n",
        "\n",
        "      print(\"\\nДлины кратчайших путей между заданными точками (в данном случае трёх путей между 0 и 3): \")\n",
        "      print(dist)\n",
        "      print(\"\\nВершины, что образуют данные пути: \")\n",
        "      print(paths)\n",
        "\n",
        "      print(\"\\nГраф путей: \")\n",
        "  \n",
        "except FileNotFoundError:\n",
        "  print(\"Файл не был найден\") "
      ],
      "metadata": {
        "colab": {
          "base_uri": "https://localhost:8080/",
          "height": 593
        },
        "id": "ipAXKoSS_AL7",
        "outputId": "881a715b-4b10-43ce-f19c-d654a45b30f0"
      },
      "execution_count": 110,
      "outputs": [
        {
          "output_type": "stream",
          "name": "stdout",
          "text": [
            "Матрица дорог (вершины 0-5): \n",
            "[0, 3, 1, 3, 0, 0]\n",
            "[3, 0, 4, 0, 0, 0]\n",
            "[1, 4, 0, 0, 7, 5]\n",
            "[3, 0, 0, 0, 0, 2]\n",
            "[0, 0, 7, 0, 0, 4]\n",
            "[0, 0, 5, 2, 4, 0]\n",
            "\n",
            "Длины кратчайших путей между заданными точками (в данном случае трёх путей между 0 и 3): \n",
            "[3, 8, 14]\n",
            "\n",
            "Вершины, что образуют данные пути: \n",
            "[[0, 3], [0, 2, 5, 3], [0, 1, 2, 5, 3]]\n",
            "\n",
            "Граф путей: \n"
          ]
        },
        {
          "output_type": "display_data",
          "data": {
            "text/plain": [
              "<Figure size 432x288 with 1 Axes>"
            ],
            "image/png": "[encoded data removed]"
          },
          "metadata": {}
        }
      ]
    },
    {
      "cell_type": "markdown",
      "metadata": {
        "id": "diOb-K7LnO5a"
      },
      "source": [
        "###Таблица зависимостей времени построения от количества вершин"
      ]
    },
    {
      "cell_type": "code",
      "source": [
        "import pandas as panda\n",
        "table = [[\"Алгоритм Флойда-Уоршелла\", time1],\n",
        "        [\"Алгоритм Дейкстры\", time2],\n",
        "        [\"Алгоритм Беллмана-Форда\", time3],\n",
        "        [\"Алгоритм Джонсона\", time4],\n",
        "        [\"Алгоритм Левита\", time5],\n",
        "        [\"Алгоритм Йена\", time6]]\n",
        "\n",
        "panda.DataFrame(table, columns=[\"Название алгоритма\", \"Время при количестве вершин = 6\"])"
      ],
      "metadata": {
        "colab": {
          "base_uri": "https://localhost:8080/",
          "height": 237
        },
        "id": "3QzIXyYv9T1F",
        "outputId": "9a12deac-b5e3-41c0-8987-437675119e08"
      },
      "execution_count": 112,
      "outputs": [
        {
          "output_type": "execute_result",
          "data": {
            "text/plain": [
              "         Название алгоритма  Время при количестве вершин = 6\n",
              "0  Алгоритм Флойда-Уоршелла                         0.002266\n",
              "1         Алгоритм Дейкстры                         0.002905\n",
              "2   Алгоритм Беллмана-Форда                         0.004266\n",
              "3         Алгоритм Джонсона                         0.005663\n",
              "4           Алгоритм Левита                         0.000713\n",
              "5             Алгоритм Йена                         0.003978"
            ],
            "text/html": [
              "\n",
              "  <div id=\"df-d1f815f8-08fa-42f1-8381-35c835b1f28e\">\n",
              "    <div class=\"colab-df-container\">\n",
              "      <div>\n",
              "<style scoped>\n",
              "    .dataframe tbody tr th:only-of-type {\n",
              "        vertical-align: middle;\n",
              "    }\n",
              "\n",
              "    .dataframe tbody tr th {\n",
              "        vertical-align: top;\n",
              "    }\n",
              "\n",
              "    .dataframe thead th {\n",
              "        text-align: right;\n",
              "    }\n",
              "</style>\n",
              "<table border=\"1\" class=\"dataframe\">\n",
              "  <thead>\n",
              "    <tr style=\"text-align: right;\">\n",
              "      <th></th>\n",
              "      <th>Название алгоритма</th>\n",
              "      <th>Время при количестве вершин = 6</th>\n",
              "    </tr>\n",
              "  </thead>\n",
              "  <tbody>\n",
              "    <tr>\n",
              "      <th>0</th>\n",
              "      <td>Алгоритм Флойда-Уоршелла</td>\n",
              "      <td>0.002266</td>\n",
              "    </tr>\n",
              "    <tr>\n",
              "      <th>1</th>\n",
              "      <td>Алгоритм Дейкстры</td>\n",
              "      <td>0.002905</td>\n",
              "    </tr>\n",
              "    <tr>\n",
              "      <th>2</th>\n",
              "      <td>Алгоритм Беллмана-Форда</td>\n",
              "      <td>0.004266</td>\n",
              "    </tr>\n",
              "    <tr>\n",
              "      <th>3</th>\n",
              "      <td>Алгоритм Джонсона</td>\n",
              "      <td>0.005663</td>\n",
              "    </tr>\n",
              "    <tr>\n",
              "      <th>4</th>\n",
              "      <td>Алгоритм Левита</td>\n",
              "      <td>0.000713</td>\n",
              "    </tr>\n",
              "    <tr>\n",
              "      <th>5</th>\n",
              "      <td>Алгоритм Йена</td>\n",
              "      <td>0.003978</td>\n",
              "    </tr>\n",
              "  </tbody>\n",
              "</table>\n",
              "</div>\n",
              "      <button class=\"colab-df-convert\" onclick=\"convertToInteractive('df-d1f815f8-08fa-42f1-8381-35c835b1f28e')\"\n",
              "              title=\"Convert this dataframe to an interactive table.\"\n",
              "              style=\"display:none;\">\n",
              "        \n",
              "  <svg xmlns=\"http://www.w3.org/2000/svg\" height=\"24px\"viewBox=\"0 0 24 24\"\n",
              "       width=\"24px\">\n",
              "    <path d=\"M0 0h24v24H0V0z\" fill=\"none\"/>\n",
              "    <path d=\"M18.56 5.44l.94 2.06.94-2.06 2.06-.94-2.06-.94-.94-2.06-.94 2.06-2.06.94zm-11 1L8.5 8.5l.94-2.06 2.06-.94-2.06-.94L8.5 2.5l-.94 2.06-2.06.94zm10 10l.94 2.06.94-2.06 2.06-.94-2.06-.94-.94-2.06-.94 2.06-2.06.94z\"/><path d=\"M17.41 7.96l-1.37-1.37c-.4-.4-.92-.59-1.43-.59-.52 0-1.04.2-1.43.59L10.3 9.45l-7.72 7.72c-.78.78-.78 2.05 0 2.83L4 21.41c.39.39.9.59 1.41.59.51 0 1.02-.2 1.41-.59l7.78-7.78 2.81-2.81c.8-.78.8-2.07 0-2.86zM5.41 20L4 18.59l7.72-7.72 1.47 1.35L5.41 20z\"/>\n",
              "  </svg>\n",
              "      </button>\n",
              "      \n",
              "  <style>\n",
              "    .colab-df-container {\n",
              "      display:flex;\n",
              "      flex-wrap:wrap;\n",
              "      gap: 12px;\n",
              "    }\n",
              "\n",
              "    .colab-df-convert {\n",
              "      background-color: #E8F0FE;\n",
              "      border: none;\n",
              "      border-radius: 50%;\n",
              "      cursor: pointer;\n",
              "      display: none;\n",
              "      fill: #1967D2;\n",
              "      height: 32px;\n",
              "      padding: 0 0 0 0;\n",
              "      width: 32px;\n",
              "    }\n",
              "\n",
              "    .colab-df-convert:hover {\n",
              "      background-color: #E2EBFA;\n",
              "      box-shadow: 0px 1px 2px rgba(60, 64, 67, 0.3), 0px 1px 3px 1px rgba(60, 64, 67, 0.15);\n",
              "      fill: #174EA6;\n",
              "    }\n",
              "\n",
              "    [theme=dark] .colab-df-convert {\n",
              "      background-color: #3B4455;\n",
              "      fill: #D2E3FC;\n",
              "    }\n",
              "\n",
              "    [theme=dark] .colab-df-convert:hover {\n",
              "      background-color: #434B5C;\n",
              "      box-shadow: 0px 1px 3px 1px rgba(0, 0, 0, 0.15);\n",
              "      filter: drop-shadow(0px 1px 2px rgba(0, 0, 0, 0.3));\n",
              "      fill: #FFFFFF;\n",
              "    }\n",
              "  </style>\n",
              "\n",
              "      <script>\n",
              "        const buttonEl =\n",
              "          document.querySelector('#df-d1f815f8-08fa-42f1-8381-35c835b1f28e button.colab-df-convert');\n",
              "        buttonEl.style.display =\n",
              "          google.colab.kernel.accessAllowed ? 'block' : 'none';\n",
              "\n",
              "        async function convertToInteractive(key) {\n",
              "          const element = document.querySelector('#df-d1f815f8-08fa-42f1-8381-35c835b1f28e');\n",
              "          const dataTable =\n",
              "            await google.colab.kernel.invokeFunction('convertToInteractive',\n",
              "                                                     [key], {});\n",
              "          if (!dataTable) return;\n",
              "\n",
              "          const docLinkHtml = 'Like what you see? Visit the ' +\n",
              "            '<a target=\"_blank\" href=https://colab.research.google.com/notebooks/data_table.ipynb>data table notebook</a>'\n",
              "            + ' to learn more about interactive tables.';\n",
              "          element.innerHTML = '';\n",
              "          dataTable['output_type'] = 'display_data';\n",
              "          await google.colab.output.renderOutput(dataTable, element);\n",
              "          const docLink = document.createElement('div');\n",
              "          docLink.innerHTML = docLinkHtml;\n",
              "          element.appendChild(docLink);\n",
              "        }\n",
              "      </script>\n",
              "    </div>\n",
              "  </div>\n",
              "  "
            ]
          },
          "metadata": {},
          "execution_count": 112
        }
      ]
    }
  ],
  "metadata": {
    "colab": {
      "name": "Lab6.ipynb",
      "provenance": [],
      "collapsed_sections": []
    },
    "kernelspec": {
      "display_name": "Python 3 (ipykernel)",
      "language": "python",
      "name": "python3"
    },
    "language_info": {
      "codemirror_mode": {
        "name": "ipython",
        "version": 3
      },
      "file_extension": ".py",
      "mimetype": "text/x-python",
      "name": "python",
      "nbconvert_exporter": "python",
      "pygments_lexer": "ipython3",
      "version": "3.10.2"
    }
  },
  "nbformat": 4,
  "nbformat_minor": 0
}