{
  "cells": [
    {
      "cell_type": "markdown",
      "id": "fifteen-sailing",
      "metadata": {
        "id": "fifteen-sailing"
      },
      "source": [
        "# Лабораторная работа №4\n",
        "## Выполнил студент группы БВТ2001 Ильинская Вера \n"
      ]
    },
    {
      "cell_type": "markdown",
      "id": "arctic-stocks",
      "metadata": {
        "id": "arctic-stocks"
      },
      "source": [
        "Реализовать следующие структуры данных:\n",
        "  \n",
        "● <b> Стек (stack): </b>  \n",
        "Операции для стека: \n",
        "<i> инициализация, проверка на пустоту, добавление нового элемента в начало, извлечение элемента из начала;  </i>  \n",
        "  \n",
        "● <b> Дек (двусторонняя очередь, deque):  </b>  \n",
        "Операции для дека: \n",
        "<i> инициализация, проверка на пустоту, добавление нового элемента в начало, добавление нового элемента в конец, извлечение элемента из начала, извлечение элемента из конца. </i>  \n",
        "  \n",
        "<i> Разработать программу обработки данных, содержащихся в заранее подготовленном txt-файле, в соответствии с заданиями, применив указанную в задании структуру данных. Результат работы программы вывести на экран и сохранить в отдельном txt-файле. </i>"
      ]
    },
    {
      "cell_type": "code",
      "source": [
        "class Stack():\n",
        "  \n",
        "  i = [] #создала из-за третьего задания, так как там нужно знать длину стака 1\n",
        "\n",
        "  #инициализация стека\n",
        "  def __init__(self, it):\n",
        "        self.i = it\n",
        "  \n",
        "  #проверка стека на пустоту\n",
        "  def isStackEmpty(self):\n",
        "    if (len(self.i)):\n",
        "      return False\n",
        "    else:\n",
        "      return True\n",
        "\n",
        "  #добавление нового элемента в начало\n",
        "  def addNewElStackStart(self, el):\n",
        "    self.i.append(el)\n",
        "  \n",
        "  #извлечение элемента из начала\n",
        "  def popStackEl(self):\n",
        "    return self.i.pop()\n",
        "\n",
        "class Deque():\n",
        "  #инициализация дека\n",
        "  def __init__(self, mas):\n",
        "    self.Deque = mas\n",
        "  \n",
        "  #проверка дека на пустоту\n",
        "  def isDequeEmpty(self):\n",
        "    if (len(self.Deque)):\n",
        "      return False\n",
        "    else:\n",
        "      return True  \n",
        "\n",
        "  #добавление нового элемента в начало\n",
        "  def addNewElDequeStart(self, el):\n",
        "    self.Deque.insert(0, el)\n",
        "  \n",
        "  #добавление нового элемента в конец\n",
        "  def addNewElDequeEnd(self, el):\n",
        "    self.Deque.append(el)\n",
        "  \n",
        "  #извлечение элемента из начала\n",
        "  def popDequeElStart(self):\n",
        "    if (self.isDequeEmpty() == False):\n",
        "      return self.Deque.pop(0)\n",
        "  \n",
        "  #извлечение элемента из конца\n",
        "  def popDequeElEnd(self):\n",
        "    return self.Deque.pop()\n"
      ],
      "metadata": {
        "id": "UpFhb-RxPOb1"
      },
      "id": "UpFhb-RxPOb1",
      "execution_count": 43,
      "outputs": []
    },
    {
      "cell_type": "markdown",
      "id": "5d7edb08",
      "metadata": {
        "scrolled": true,
        "id": "5d7edb08"
      },
      "source": [
        "### Задание №1\n",
        "Отсортировать строки файла, содержащие названия книг, в алфавитном порядке с использованием двух деков."
      ]
    },
    {
      "cell_type": "code",
      "execution_count": 46,
      "id": "17702ade",
      "metadata": {
        "id": "17702ade",
        "colab": {
          "base_uri": "https://localhost:8080/"
        },
        "outputId": "03bbdd8e-7a27-45a8-d3e6-2b132ed1bb84"
      },
      "outputs": [
        {
          "output_type": "stream",
          "name": "stdout",
          "text": [
            "Названия книг в алфавитном порядке: \n",
            "\n",
            "Анна Каренина\n",
            "\n",
            "Война и мир\n",
            "\n",
            "Горе от ума\n",
            "\n",
            "Мёртвые души\n",
            "\n",
            "Обломов\n",
            "\n",
            "Перси Джексон и похититель молний\n",
            "\n",
            "Преступление и наказание\n",
            "\n",
            "Ревизор\n",
            "\n",
            "Убийство в восточном экспрессе\n",
            "\n"
          ]
        }
      ],
      "source": [
        "try:\n",
        "  #считываем текстовый файл\n",
        "  with open(\"/content/drive/MyDrive/CIAOD and VVIT/Lab4Files/Task1Lab4.txt\", \"r\", encoding = \"utf-8\") as codefile1:\n",
        "    books = [] \n",
        "    for i in codefile1.readlines():\n",
        "      books.append(i)\n",
        "    deque1_1 = Deque([])\n",
        "    deque1_2 = Deque([])\n",
        "    deque1_1.addNewElDequeStart(books[0]) #добавляем в дек1 первую строчку файла\n",
        "    for i in range (1, len(books)): #рассматриваем от 2 строки\n",
        "      temp_str1 = deque1_1.popDequeElStart() #берём в начале первое название из дека1 для сравнения с другими\n",
        "      \n",
        "      #если следующая за ним строка <= по алфавиту\n",
        "      if (books[i] <= temp_str1): \n",
        "        #добавляем в дек 1 проверяемое нами название и следующее слово в файле\n",
        "        deque1_1.addNewElDequeStart(temp_str1)\n",
        "        deque1_1.addNewElDequeStart(books[i])\n",
        "        continue \n",
        "      deque1_1.addNewElDequeStart(temp_str1) #возвращаем проверяемое название \n",
        "      temp_str2 = deque1_1.popDequeElEnd()\n",
        "      \n",
        "      #если последующая строка >= по алфавиту\n",
        "      if (books[i] >= temp_str2):\n",
        "        deque1_1.addNewElDequeEnd(temp_str2)\n",
        "        deque1_1.addNewElDequeEnd(books[i])\n",
        "        continue\n",
        "      deque1_1.addNewElDequeEnd(temp_str2)\n",
        "      final_temp = deque1_1.popDequeElStart()\n",
        "      \n",
        "      while (books[i] >= final_temp):\n",
        "        #используем дек2 для хранения наибольших значений\n",
        "        deque1_2.addNewElDequeEnd(final_temp)\n",
        "        final_temp = deque1_1.popDequeElStart()\n",
        "\n",
        "      deque1_1.addNewElDequeStart(final_temp)\n",
        "      deque1_1.addNewElDequeStart(books[i])\n",
        "\n",
        "      while (deque1_2.isDequeEmpty() == False):\n",
        "        deque1_1.addNewElDequeStart(deque1_2.popDequeElEnd()) #добавляем найденное/ые \"наибольшие\" названия в дек1\n",
        "\n",
        "    print(\"Названия книг в алфавитном порядке: \\n\")\n",
        "    for i in deque1_1.Deque:\n",
        "        print(i)\n",
        "    result_str = \"\"\n",
        "    for i in deque1_1.Deque:\n",
        "      result_str += i\n",
        "\n",
        "except FileNotFoundError:\n",
        "  print(\"Файл не был найден\") \n",
        "\n",
        "try:\n",
        "  with open(\"/content/drive/MyDrive/CIAOD and VVIT/Lab4Files/Task1Lab4New.txt\", \"w\", encoding = \"utf-8\") as newfile:\n",
        "    newfile.write(result_str)\n",
        "except:\n",
        "    print(\"Извините, что-то пошло не так. Попробуйте ещё раз запустить ячейку\") "
      ]
    },
    {
      "cell_type": "markdown",
      "id": "49fbd2a0",
      "metadata": {
        "id": "49fbd2a0"
      },
      "source": [
        "### Задание №2\n",
        "Дек содержит последовательность символов для шифровки сообщений. Дан текстовый файл, содержащий зашифрованное сообщение. Пользуясь деком, расшифровать текст. \n",
        "Известно, что при шифровке каждый символ сообщения заменялся следующим за ним в деке по часовой стрелке через один."
      ]
    },
    {
      "cell_type": "code",
      "execution_count": 48,
      "id": "81cab7a8",
      "metadata": {
        "id": "81cab7a8",
        "colab": {
          "base_uri": "https://localhost:8080/"
        },
        "outputId": "3bde2744-3e3f-46b4-86b9-d64130aba8dd"
      },
      "outputs": [
        {
          "output_type": "stream",
          "name": "stdout",
          "text": [
            "Расшифрованный текст из файла: \n",
            "ТОМАКУН\n"
          ]
        }
      ],
      "source": [
        "#ТОМАКУН\n",
        "#МАКУНТО\n",
        "\n",
        "deque2 = Deque(['Т', 'О', 'М', 'А', 'К', 'У', 'Н'])\n",
        "\n",
        "try:\n",
        "  #считываем текстовый файл\n",
        "  with open(\"/content/drive/MyDrive/CIAOD and VVIT/Lab4Files/Task2Lab4.txt\", \"r\", encoding = \"utf-8\") as codefile2:\n",
        "    result = \"\"\n",
        "    for i in codefile2.readline():\n",
        "        temp_str = \"\"\n",
        "        temp_deq_sym = deque2.popDequeElStart()\n",
        "        if (deque2.isDequeEmpty() == False):\n",
        "          #пока буква сообщения не равна проверяемой сейчас букве дека\n",
        "          while (i != temp_deq_sym):\n",
        "            temp_str += temp_deq_sym #добавляем во временную строку все пройденные в деке буквы\n",
        "            temp_deq_sym = deque2.popDequeElStart() #обновляем проверяемую букву дека\n",
        "          \n",
        "          #если совпадение с деком произошло на первой букве зашифрованного сообщения\n",
        "          #(если так, то первая буква сообщения == предпоследней букве дека)\n",
        "          if (len(temp_str) == 0):\n",
        "            deque2.addNewElDequeStart(temp_deq_sym) #для правильности возвращаем\n",
        "                                                    #рассма-й ранее элемент в дек \n",
        "            temp_deq_sym_last = deque2.popDequeElEnd() #берём последний элемент дека\n",
        "            temp_deq_sym = deque2.popDequeElEnd() #берём предпоследний элемент дека\n",
        "            result += temp_deq_sym #cоотвественно записываем предпоследний элемент дока в результат\n",
        "            deque2.addNewElDequeEnd(temp_deq_sym) #возвращаем взятые буквы в дек\n",
        "            deque2.addNewElDequeEnd(temp_deq_sym_last)\n",
        "\n",
        "          #если совпадение с деком произошло на второй букве зашифрованного сообщения\n",
        "          #(если так, то вторая буква сообщения == последней букве дека)\n",
        "          elif (len(temp_str) == 1):\n",
        "            deque2.addNewElDequeStart(temp_deq_sym)\n",
        "            deque2.addNewElDequeStart(temp_str[0])\n",
        "            temp_deq_sym = deque2.popDequeElEnd() #берём последний элемент дека\n",
        "            result += temp_deq_sym\n",
        "            deque2.addNewElDequeEnd(temp_deq_sym) #как взяли выше, так и вернули\n",
        "\n",
        "          #если не особый случай первого и второго совпадения, то просто берём\n",
        "          #и расшифровываем сообщение с помощью символов во временной строке\n",
        "          else:\n",
        "            deque2.addNewElDequeStart(temp_deq_sym)\n",
        "            temp_deq_sym = temp_str[len(temp_str) - 2]\n",
        "            result += temp_deq_sym\n",
        "            for j in reversed(temp_str):\n",
        "              deque2.addNewElDequeStart(j) #снова возвращаем все символы в дек\n",
        "        else:\n",
        "          print(\"Произошли технические шоколадки\")\n",
        "    print(\"Расшифрованный текст из файла: \")\n",
        "    print(result)\n",
        "\n",
        "except FileNotFoundError:\n",
        "  print(\"Файл не был найден\") \n",
        "\n",
        "try:\n",
        "  with open(\"/content/drive/MyDrive/CIAOD and VVIT/Lab4Files/Task2Lab4New.txt\", \"w\", encoding = \"utf-8\") as newfile:\n",
        "    newfile.write(result)\n",
        "except:\n",
        "    print(\"Извините, что-то пошло не так. Попробуйте ещё раз запустить ячейку\")"
      ]
    },
    {
      "cell_type": "markdown",
      "id": "c0894f47",
      "metadata": {
        "id": "c0894f47"
      },
      "source": [
        "### Задание №3\n",
        "Даны три стержня и n дисков различного размера. Диски можно надевать на стержни, образуя из них башни. Перенести n дисков со стержня А на стержень С, сохранив их первоначальный порядок. При переносе дисков необходимо соблюдать следующие правила:\n",
        "- на каждом шаге со стержня на стержень переносить только один диск;\n",
        "- диск нельзя помещать на диск меньшего размера;\n",
        "- для промежуточного хранения можно использовать стержень В.\n",
        "Реализовать алгоритм, используя три стека вместо стержней А, В, С. Информация о дисках хранится в исходном файле."
      ]
    },
    {
      "cell_type": "code",
      "execution_count": 49,
      "id": "9e91a9d4",
      "metadata": {
        "id": "9e91a9d4",
        "colab": {
          "base_uri": "https://localhost:8080/"
        },
        "outputId": "f5b970b7-7f1d-485f-ed0e-3309089fd3c2"
      },
      "outputs": [
        {
          "output_type": "stream",
          "name": "stdout",
          "text": [
            "Как мы перекладываем диски со стержня A на стержень C: \n",
            "(В данном случае 1 = A, 2 = B, 3 = C)\n",
            "\n",
            "Перекладываем диск со стержня 1 на стержень 3\n",
            "Перекладываем диск со стержня 1 на стержень 2\n",
            "Перекладываем диск со стержня 3 на стержень 2\n",
            "Перекладываем диск со стержня 1 на стержень 3\n",
            "Перекладываем диск со стержня 2 на стержень 1\n",
            "Перекладываем диск со стержня 2 на стержень 3\n",
            "Перекладываем диск со стержня 1 на стержень 3\n",
            "Перекладываем диск со стержня 1 на стержень 2\n",
            "Перекладываем диск со стержня 3 на стержень 2\n",
            "Перекладываем диск со стержня 3 на стержень 1\n",
            "Перекладываем диск со стержня 2 на стержень 1\n",
            "Перекладываем диск со стержня 3 на стержень 2\n",
            "Перекладываем диск со стержня 1 на стержень 3\n",
            "Перекладываем диск со стержня 1 на стержень 2\n",
            "Перекладываем диск со стержня 3 на стержень 2\n",
            "Перекладываем диск со стержня 1 на стержень 3\n",
            "Перекладываем диск со стержня 2 на стержень 1\n",
            "Перекладываем диск со стержня 2 на стержень 3\n",
            "Перекладываем диск со стержня 1 на стержень 3\n",
            "Перекладываем диск со стержня 2 на стержень 1\n",
            "Перекладываем диск со стержня 3 на стержень 2\n",
            "Перекладываем диск со стержня 3 на стержень 1\n",
            "Перекладываем диск со стержня 2 на стержень 1\n",
            "Перекладываем диск со стержня 2 на стержень 3\n",
            "Перекладываем диск со стержня 1 на стержень 3\n",
            "Перекладываем диск со стержня 1 на стержень 2\n",
            "Перекладываем диск со стержня 3 на стержень 2\n",
            "Перекладываем диск со стержня 1 на стержень 3\n",
            "Перекладываем диск со стержня 2 на стержень 1\n",
            "Перекладываем диск со стержня 2 на стержень 3\n",
            "Перекладываем диск со стержня 1 на стержень 3\n"
          ]
        }
      ],
      "source": [
        "#Ханойская башня\n",
        "\n",
        "#создаём массив стаков, так как будем рассчитывать\n",
        "#по формуле, к какому именно стаку обратиться \n",
        "#(если source, то может быть 1 и 2, а если receiv, то может быть 2 и 3)\n",
        "kernels = {1 : Stack([]), 2 : Stack([]), 3 : Stack([])}\n",
        "def diskTransfer(leng, source, receiv):\n",
        "  if (leng == 1): #выходим из функции, ведь последний диск из стака 1 будет перенесён\n",
        "    print(f\"Перекладываем диск со стержня {source} на стержень {receiv}\")\n",
        "    kernels[receiv].addNewElStackStart(kernels[source].popStackEl()) #переносим последний диск\n",
        "  else:\n",
        "    #выполянем рекурсию\n",
        "    diskTransfer(leng - 1, source, 6 - source - receiv) #получателем по формуле будет либо стержень (стак) 2, либо 3\n",
        "    print(f\"Перекладываем диск со стержня {source} на стержень {receiv}\")\n",
        "    kernels[receiv].addNewElStackStart(kernels[source].popStackEl())\n",
        "    diskTransfer(leng - 1, 6 - source - receiv, receiv) #будем перносить диск либо из стака 1, либо из стака 2\n",
        "\n",
        "try:\n",
        "  with open(\"/content/drive/MyDrive/CIAOD and VVIT/Lab4Files/Task3Lab4.txt\", \"r\", encoding = \"utf-8\") as codefile3:\n",
        "    numbers = codefile3.readline()\n",
        "    kernels[1] = Stack(numbers.split(\" \")) #помещаем в стак 1 \"диски\" из файла\n",
        "    print(\"Как мы перекладываем диски со стержня A на стержень C: \")\n",
        "    print(\"(В данном случае 1 = A, 2 = B, 3 = C)\\n\")\n",
        "    #len(kernels[1].i) - так мы ищём длину именно всего стака, обращаемся к длине массива i в нём\n",
        "    diskTransfer(len(kernels[1].i), 1, 3) #создала в стаке массив i, чтобы брать его длину\n",
        "except FileNotFoundError:\n",
        "  print(\"Файл не был найден\") "
      ]
    },
    {
      "cell_type": "markdown",
      "id": "e5b0be17",
      "metadata": {
        "id": "e5b0be17"
      },
      "source": [
        "### Задание №4\n",
        "Дан текстовый файл с программой на алгоритмическом языке. За один просмотр файла проверить баланс круглых скобок в тексте, используя стек."
      ]
    },
    {
      "cell_type": "code",
      "execution_count": 50,
      "id": "5b1df60a",
      "metadata": {
        "id": "5b1df60a",
        "colab": {
          "base_uri": "https://localhost:8080/"
        },
        "outputId": "e3250d99-267c-481b-8606-0f8bbb14b611"
      },
      "outputs": [
        {
          "output_type": "stream",
          "name": "stdout",
          "text": [
            "Баланс круглых скобок нарушен\n"
          ]
        }
      ],
      "source": [
        "try:\n",
        "  #считываем текстовый файл\n",
        "  with open(\"/content/drive/MyDrive/CIAOD and VVIT/Lab4Files/Task45JavaCode.txt\", \"r\", encoding = \"utf-8\") as codefile4:\n",
        "    stack4 = Stack([])\n",
        "    for line in codefile4:\n",
        "      for el in line:\n",
        "        if (el == \"(\"):\n",
        "          stack4.addNewElStackStart(el)\n",
        "        elif (el == ')'):\n",
        "          #если стак не пустой, т.е '(' уже встречалась\n",
        "          if (stack4.isStackEmpty() is False):\n",
        "            stack4.popStackEl() #удаляем '(' в стаке, по которому ориентировалась проверка\n",
        "          else:\n",
        "            break\n",
        "\n",
        "  strRes = \"Баланс круглых скобок не нарушен\" if stack4.isStackEmpty() else \"Баланс круглых скобок нарушен\"\n",
        "  print (strRes)\n",
        "\n",
        "except FileNotFoundError:\n",
        "  print(\"Файл не был найден\") "
      ]
    },
    {
      "cell_type": "markdown",
      "id": "c44cdd6b",
      "metadata": {
        "id": "c44cdd6b"
      },
      "source": [
        "### Задание №5\n",
        "Дан текстовый файл с программой на алгоритмическом языке. За один просмотр файла проверить баланс квадратных скобок в тексте, используя дек."
      ]
    },
    {
      "cell_type": "code",
      "execution_count": 51,
      "id": "36b8f400",
      "metadata": {
        "id": "36b8f400",
        "colab": {
          "base_uri": "https://localhost:8080/"
        },
        "outputId": "d9c38901-d6b1-4b04-ab05-29899b93a102"
      },
      "outputs": [
        {
          "output_type": "stream",
          "name": "stdout",
          "text": [
            "Баланс квадратных скобок не нарушен\n"
          ]
        }
      ],
      "source": [
        "try:\n",
        "  #считываем текстовый файл\n",
        "  with open(\"/content/drive/MyDrive/CIAOD and VVIT/Lab4Files/Task45JavaCode.txt\", \"r\", encoding = \"utf-8\") as codefile4:\n",
        "    stack4 = Stack([])\n",
        "    for line in codefile4:\n",
        "      for el in line:\n",
        "        if (el == \"[\"):\n",
        "          stack4.addNewElStackStart(el)\n",
        "        elif (el == ']'):\n",
        "          if (stack4.isStackEmpty() is False):\n",
        "            stack4.popStackEl()\n",
        "          else:\n",
        "            break\n",
        "\n",
        "  strRes = \"Баланс квадратных скобок не нарушен\" if stack4.isStackEmpty() else \"Баланс квадратных скобок нарушен\"\n",
        "  print (strRes)\n",
        "\n",
        "except FileNotFoundError:\n",
        "  print(\"Файл не был найден\") "
      ]
    },
    {
      "cell_type": "markdown",
      "id": "59d13dc7",
      "metadata": {
        "id": "59d13dc7"
      },
      "source": [
        "### Задание №6\n",
        "Дан файл из символов. Используя стек, за один просмотр файла напечатать сначала все цифры, затем все буквы, и, наконец, все остальные символы, сохраняя исходный порядок в каждой группе символов."
      ]
    },
    {
      "cell_type": "code",
      "execution_count": 52,
      "id": "297e36c2",
      "metadata": {
        "id": "297e36c2",
        "colab": {
          "base_uri": "https://localhost:8080/"
        },
        "outputId": "167a5088-036b-44a7-f7ef-ff6df9182832"
      },
      "outputs": [
        {
          "output_type": "stream",
          "name": "stdout",
          "text": [
            "23 | Яужеразасказалатебечтовстрокенедолжнобыть | -     ,        \"#\"\n"
          ]
        }
      ],
      "source": [
        "try:\n",
        "  with open(\"/content/drive/MyDrive/CIAOD and VVIT/Lab4Files/Task6Lab4.txt\", \"r\", encoding = \"utf-8\") as file6:\n",
        "    stackNums = Stack([])\n",
        "    stackLetters = Stack([])\n",
        "    stackSyms = Stack([])\n",
        "    for line in file6:\n",
        "      line = reversed(line)\n",
        "      for i in line:\n",
        "        if (i.isdigit()):\n",
        "          stackNums.addNewElStackStart(i)\n",
        "        elif (i.isalpha()):\n",
        "          stackLetters.addNewElStackStart(i)\n",
        "        else:\n",
        "          stackSyms.addNewElStackStart(i)\n",
        "\n",
        "    nums_str = \"\"\n",
        "    while (stackNums.isStackEmpty() == False):\n",
        "      nums_str += stackNums.popStackEl()\n",
        "    letters_str = \"\"\n",
        "    while (stackLetters.isStackEmpty() == False):\n",
        "      letters_str += stackLetters.popStackEl()\n",
        "    syms_str = \"\"\n",
        "    while (stackSyms.isStackEmpty() == False):\n",
        "      syms_str += stackSyms.popStackEl()\n",
        "    result = nums_str + \" | \" + letters_str + \" | \" + syms_str\n",
        "    print(result)\n",
        "\n",
        "except FileNotFoundError:\n",
        "  print(\"Файл не был найден\")\n",
        "\n",
        "try:\n",
        "  with open(\"/content/drive/MyDrive/CIAOD and VVIT/Lab4Files/Task6Lab4New.txt\", \"w\", encoding = \"utf-8\") as new6file:\n",
        "    new6file.write(result)\n",
        "except:\n",
        "    print(\"Извините, что-то пошло не так. Попробуйте ещё раз запустить ячейку\")"
      ]
    },
    {
      "cell_type": "markdown",
      "id": "973f68bd",
      "metadata": {
        "id": "973f68bd"
      },
      "source": [
        "### Задание №7\n",
        "Дан файл из целых чисел. Используя дек, за один просмотр файла напечатать сначала все отрицательные числа, затем все положительные числа, сохраняя исходный порядок в каждой группе."
      ]
    },
    {
      "cell_type": "code",
      "execution_count": 53,
      "id": "c56fad66",
      "metadata": {
        "id": "c56fad66",
        "colab": {
          "base_uri": "https://localhost:8080/"
        },
        "outputId": "c91e7cd0-a940-44f9-f545-e88f82b90351"
      },
      "outputs": [
        {
          "output_type": "stream",
          "name": "stdout",
          "text": [
            "-8 -2 -4 -5 1 4 9 3 \n"
          ]
        }
      ],
      "source": [
        "try:\n",
        "  with open(\"/content/drive/MyDrive/CIAOD and VVIT/Lab4Files/Task7Lab4.txt\", \"r\", encoding = \"utf-8\") as numsfile:\n",
        "    dequeNeg7 = Deque([])\n",
        "    dequePos7 = Deque([])\n",
        "    numMas = numsfile.readline().split(\" \")\n",
        "    for i in numMas:\n",
        "      if (int(i) < 0):\n",
        "        dequeNeg7.addNewElDequeEnd(int(i))\n",
        "      if (int(i) > 0):\n",
        "        dequePos7.addNewElDequeEnd(int(i))\n",
        "    \n",
        "  result = \"\"\n",
        "  while (dequeNeg7.isDequeEmpty() == False):\n",
        "    result += str(dequeNeg7.popDequeElStart()) + \" \" #выводим из дека элементы с начала (от отрицательных)\n",
        "  while (dequePos7.isDequeEmpty() == False):\n",
        "    result += str(dequePos7.popDequeElStart()) + \" \" \n",
        "  print(result)\n",
        "except FileNotFoundError:\n",
        "  print(\"Файл не был найден\")\n",
        "\n",
        "try:\n",
        "  with open(\"/content/drive/MyDrive/CIAOD and VVIT/Lab4Files/Task7Lab4New.txt\", \"w\", encoding = \"utf-8\") as newnumsfile:\n",
        "    newnumsfile.write(result)\n",
        "except:\n",
        "    print(\"Извините, что-то пошло не так. Попробуйте ещё раз запустить ячейку\")"
      ]
    },
    {
      "cell_type": "markdown",
      "id": "b9228191",
      "metadata": {
        "id": "b9228191"
      },
      "source": [
        "### Задание №8\n",
        "Дан текстовый файл. Используя стек, сформировать новый текстовый файл, содержащий строки исходного файла, записанные в обратном порядке: первая строка становится последней, вторая – предпоследней и т.д."
      ]
    },
    {
      "cell_type": "code",
      "execution_count": 54,
      "id": "981fbdfe",
      "metadata": {
        "id": "981fbdfe"
      },
      "outputs": [],
      "source": [
        "try:\n",
        "  #считываем текстовый файл\n",
        "  with open(\"/content/drive/MyDrive/CIAOD and VVIT/Lab4Files/Task8Lab4.txt\", \"r\", encoding = \"utf-8\") as txtfile:\n",
        "    stack8 = Stack([])\n",
        "    for line in txtfile:\n",
        "        stack8.addNewElStackStart(line)\n",
        "except FileNotFoundError:\n",
        "    print(\"Файл не был найден\")\n",
        "\n",
        "try:\n",
        "  #создание/запись в новый текстовый файл\n",
        "  with open(\"/content/drive/MyDrive/CIAOD and VVIT/Lab4Files/Task8Lab4New.txt\", \"w\", encoding = \"utf-8\") as newtxtfile:\n",
        "    while (stack8.isStackEmpty() is False):\n",
        "      newtxtfile.write(stack8.popStackEl())\n",
        "except:\n",
        "    print(\"Извините, что-то пошло не так. Попробуйте ещё раз запустить ячейку\")"
      ]
    },
    {
      "cell_type": "code",
      "source": [
        "from google.colab import drive\n",
        "drive.mount('/content/drive')"
      ],
      "metadata": {
        "colab": {
          "base_uri": "https://localhost:8080/"
        },
        "id": "95QieqCaZM_G",
        "outputId": "b3484300-1caf-4bab-d5dd-180b9f3c892b"
      },
      "id": "95QieqCaZM_G",
      "execution_count": 1,
      "outputs": [
        {
          "output_type": "stream",
          "name": "stdout",
          "text": [
            "Mounted at /content/drive\n"
          ]
        }
      ]
    }
  ],
  "metadata": {
    "kernelspec": {
      "display_name": "Python 3 (ipykernel)",
      "language": "python",
      "name": "python3"
    },
    "language_info": {
      "codemirror_mode": {
        "name": "ipython",
        "version": 3
      },
      "file_extension": ".py",
      "mimetype": "text/x-python",
      "name": "python",
      "nbconvert_exporter": "python",
      "pygments_lexer": "ipython3",
      "version": "3.10.2"
    },
    "colab": {
      "name": "Lab4.ipynb",
      "provenance": [],
      "collapsed_sections": []
    }
  },
  "nbformat": 4,
  "nbformat_minor": 5
}