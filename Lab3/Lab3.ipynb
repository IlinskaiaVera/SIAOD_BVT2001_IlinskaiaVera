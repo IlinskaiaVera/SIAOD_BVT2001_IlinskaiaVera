{
  "cells": [
    {
      "cell_type": "markdown",
      "id": "db4b50f0",
      "metadata": {
        "id": "db4b50f0"
      },
      "source": [
        "# Лабораторная работа №3\n",
        "## Выполнил студент группы БВТ2001 Ильинская Вера"
      ]
    },
    {
      "cell_type": "markdown",
      "id": "annual-symbol",
      "metadata": {
        "id": "annual-symbol"
      },
      "source": [
        "### Оглавление\n",
        "1. [Задание 1](#Задание-№1)\n",
        "2. [Задание 2](#Задание-№2)\n",
        "4. [Вывод](#Вывод)"
      ]
    },
    {
      "cell_type": "markdown",
      "id": "independent-spirit",
      "metadata": {
        "id": "independent-spirit"
      },
      "source": [
        "> Дополнительные модули, использованные при выполнение лабораторной"
      ]
    },
    {
      "cell_type": "code",
      "execution_count": 5,
      "id": "4839be2b",
      "metadata": {
        "id": "4839be2b"
      },
      "outputs": [],
      "source": [
        "# Необходим при замере скорости выполнения кода\n",
        "from datetime import datetime as t\n",
        "# Нужен для создания словаря в алг. Бойера-Мура\n",
        "from collections import defaultdict"
      ]
    },
    {
      "cell_type": "markdown",
      "id": "inclusive-motorcycle",
      "metadata": {
        "id": "inclusive-motorcycle"
      },
      "source": [
        "### Задание №1\n",
        "Реализовать методы поиска подстроки в строке. Добавить возможность ввода строки и подстроки с клавиатуры. Предусмотреть возможность существования пробела. Реализовать возможность выбора опции чувствительности или нечувствительности к регистру. Оценить время работы каждого алгоритма поиска и сравнить его со временем работы стандартной функции поиска, используемой в выбранном языке программирования."
      ]
    },
    {
      "cell_type": "markdown",
      "id": "interracial-communication",
      "metadata": {
        "id": "interracial-communication"
      },
      "source": [
        "#### Алгоритм Кнута-Морриса-Пратта"
      ]
    },
    {
      "cell_type": "code",
      "execution_count": 3,
      "id": "presidential-level",
      "metadata": {
        "colab": {
          "base_uri": "https://localhost:8080/"
        },
        "id": "presidential-level",
        "outputId": "75e3bec2-a193-47c8-a262-c59b952091d1"
      },
      "outputs": [
        {
          "output_type": "stream",
          "name": "stdout",
          "text": [
            "Введите строку: Проиграла я 50 на 50, но\n",
            "Введите подстроку: 50 на 50\n",
            "Индекс образа: 12\n"
          ]
        }
      ],
      "source": [
        "#смещение символов по префиксам через массив Пи\n",
        "\n",
        "stroka = str (input(\"Введите строку: \"))\n",
        "pod_str = str (input(\"Введите подстроку: \"))\n",
        "\n",
        "#формирование массива Пи, хранящего макс.длины суфиксов, совпадающих с префи-ми\n",
        "#суфикс - все возможные варианты после префикса \n",
        "def createMasPi(pod_str): \n",
        "  dictPi = [0] * len(pod_str) #массив Пи длинной, как образ (подстрока)\n",
        "  j = 0\n",
        "  i = 1\n",
        "  while (i<len(pod_str)):\n",
        "    if (pod_str[j] == pod_str[i]): #если символы образа совпали\n",
        "      dictPi[i] = j + 1\n",
        "      #сдвигаем счётчики j и i на 1\n",
        "      j += 1\n",
        "      i += 1\n",
        "    else: #если символы образа не совпали\n",
        "      if (j == 0):\n",
        "        dictPi[i] = 0\n",
        "        i += 1 #смещаём i к следующему элементу\n",
        "      else:\n",
        "        j = dictPi[j-1] #сдвиг j назад для нового сравнения\n",
        "  return(dictPi)\n",
        "\n",
        "\n",
        "def findPodstrKMP(stroka, pod_str, ignoreCase):\n",
        "  #в том случае, если нам нужно игнорировать регистр\n",
        "  if (ignoreCase):\n",
        "    stroka = stroka.lower()\n",
        "    pod_str = pod_str.lower()\n",
        "\n",
        "  dictPi = createMasPi(pod_str)\n",
        "  stro_len = len(stroka)\n",
        "  pod_len = len(pod_str)\n",
        "\n",
        "  i = 0\n",
        "  j = 0\n",
        "  #пока не пройдёмся по всей строке\n",
        "  while (i<stro_len):\n",
        "    flag = False\n",
        "    if (stroka[i] == pod_str[j]):\n",
        "      i += 1\n",
        "      j += 1\n",
        "      if (j == pod_len): #если полное совпадение образа и подстроки строки\n",
        "        print(f\"Индекс образа: {i-pod_len}\")\n",
        "        flag = True #для регистров и отслеживания нахождения\n",
        "        break\n",
        "    else:\n",
        "      if (j > 0):\n",
        "        j = dictPi[j-1] #присваиваем j смещение из массива макс.длинн суфиксов\n",
        "      else:\n",
        "        i += 1 #если j равен 0, то сдвигаемся по строке на 1\n",
        "  if (i == stro_len and j != pod_len):\n",
        "    print(\"Образ не был найден\")\n",
        "\n",
        "findPodstrKMP(stroka, pod_str, True)"
      ]
    },
    {
      "cell_type": "markdown",
      "id": "downtown-option",
      "metadata": {
        "id": "downtown-option"
      },
      "source": [
        "#### Упрощенный алгоритм Бойера-Мура"
      ]
    },
    {
      "cell_type": "code",
      "execution_count": 6,
      "id": "respective-reggae",
      "metadata": {
        "colab": {
          "base_uri": "https://localhost:8080/"
        },
        "id": "respective-reggae",
        "outputId": "87a71a07-b1ea-4468-a7a5-ad26dd56f206"
      },
      "outputs": [
        {
          "output_type": "stream",
          "name": "stdout",
          "text": [
            "Введите строку: верю я, что\n",
            "Введите подстроку: я\n",
            "Индекс образа: 5\n"
          ]
        }
      ],
      "source": [
        "#поиск с помощью таблицы смещений символов подстроки\n",
        "\n",
        "stroka = str (input(\"Введите строку: \"))\n",
        "pod_str = str (input(\"Введите подстроку: \"))\n",
        "\n",
        "#метод формирования таблицы смещения для подстроки (образа)\n",
        "def createBiasTabl(pod_str):\n",
        "  setList = set() #создаём список для уникальных значений (которые раньше не встречались)\n",
        "  N = len(pod_str) #число символов в подстроке (образе)\n",
        "  dictSym = defaultdict() #\"таблица\" смещений\n",
        "\n",
        "  #определяем смещение от предпоследнего символа до первого\n",
        "  for i in range(N-2, -1, -1):\n",
        "    #если такой символ уже был рассмотрен, то в \n",
        "    #в dict не добавляем\n",
        "    if (pod_str[i] not in setList):\n",
        "      dictSym[pod_str[i]] = N-i-1 #добавляем в словарь символ как ключ = смещение\n",
        "      setList.add(pod_str[i]) #добавляем символ для будущей проверки повторяющихся сим-в\n",
        "\n",
        "  #если последнего символа не встречался до этого в образе, то его смещение = длине образа\n",
        "  #если последний символ уже встречался, то его смещение итак = смещению его \"сородича\"\n",
        "  if (pod_str[N-1] not in setList):\n",
        "    dictSym[pod_str[N-1]] = N\n",
        "\n",
        "  dictSym['*'] = N #если в будущем проверяемый символ не входит в таблицу смещения, то\n",
        "                   #с помощью \"*\" смещаем на длину подслова\n",
        "  return (dictSym)\n",
        "\n",
        "\n",
        "def findPodstrBM(stroka, pod_str, ignoreCase):\n",
        "  #в том случае, если нам нужно игнорировать регистр\n",
        "  if (ignoreCase):\n",
        "    stroka = stroka.lower()\n",
        "    pod_str = pod_str.lower()\n",
        "\n",
        "  dictSym = createBiasTabl(pod_str)\n",
        "  stro_len = len(stroka)\n",
        "  pod_len = len(pod_str)\n",
        "  \n",
        "  if (stro_len >= pod_len):\n",
        "    i = pod_len - 1 #определяем индекс строки для начала проверки\n",
        "                    #в начале индекс строки = индексу последнего символа подстроки\n",
        "    while (i < stro_len):\n",
        "       k = 0 #с помощью k идём от индекса i по выбранному куску \n",
        "             #строки для проверки совпадения с подстрокой\n",
        "       flag = False\n",
        "       #пробегаем в подстроке от последнего символа до первого\n",
        "       for j in range(pod_len-1, -1, -1):\n",
        "         #попарно сравниваем символы образа и проверяемого куска строки\n",
        "         #если символ не совпал с символом образа\n",
        "         if (stroka[i-k] != pod_str[j]):\n",
        "            if (j == (pod_len-1)): #если не совпал последний символ образа\n",
        "                #если в dictSym есть такой символ, то bias = смещению символа, иначе равен длине образа\n",
        "                bias = dictSym[stroka[i]] if dictSym.get(stroka[i], False) else dictSym['*']\n",
        "            else: #если не совпал не последний символ образа\n",
        "                bias = dictSym[pod_str[j]] #определяем смещение по символу образа\n",
        "\n",
        "            i += bias\n",
        "            flag = True #для регистров и отслеживания нахождения\n",
        "            break\n",
        "         k += 1\n",
        "\n",
        "       if (not flag):\n",
        "         print(f\"Индекс образа: {i-k+1}\")\n",
        "         break\n",
        "    else:\n",
        "      print(\"Образ не был найден\") \n",
        "  #если подстрока больше, чем сама строка\n",
        "  else:\n",
        "    print(\"Образ невозможно найти\")\n",
        "\n",
        "findPodstrBM(stroka, pod_str, True)"
      ]
    },
    {
      "cell_type": "markdown",
      "source": [
        "####Использование всех методов поиска подстроки, расчёт времени работы их работы и сравнение со временем стандартной функции поиска\n",
        "\n"
      ],
      "metadata": {
        "id": "EdpNEMbRtj3I"
      },
      "id": "EdpNEMbRtj3I"
    },
    {
      "cell_type": "code",
      "source": [
        "from datetime import datetime\n",
        "import time\n",
        "\n",
        "stroka = str (input(\"Введите строку: \"))\n",
        "pod_str = str (input(\"Введите подстроку: \"))\n",
        "print(\"\\n\")\n",
        "\n",
        "#расчёт времени работы стандарной функции поиска\n",
        "start_time = time.perf_counter() \n",
        "\n",
        "stroka.find(pod_str)\n",
        "\n",
        "final_time = time.perf_counter()\n",
        "work_time_standart = (final_time-start_time)/0.10\n",
        "print(f\"Время работы стандарной функции поиска - {work_time_standart} секунд \\n\")\n",
        "\n",
        "#расчёт времени работы поиска методом Кнута-Морриса-Пратта\n",
        "start_time = time.perf_counter() \n",
        "\n",
        "findPodstrKMP(stroka, pod_str, False)\n",
        "\n",
        "final_time = time.perf_counter()\n",
        "work_time_sel = (final_time-start_time)/0.10\n",
        "print(f\"Время работы поиска методом Кнута-Морриса-Пратта  - {work_time_sel} секунд \\n\")\n",
        "\n",
        "#расчёт времени работы поиска методом Бойера-Мура\n",
        "start_time = time.perf_counter() \n",
        "\n",
        "findPodstrBM(stroka, pod_str, False)\n",
        "\n",
        "final_time = time.perf_counter()\n",
        "work_time_sel = (final_time-start_time)/0.10\n",
        "print(f\"Время работы поиска методом Бойера-Мура  - {work_time_sel} секунд\")\n",
        "\n",
        "print(\"Можем сделать вывод, что все методы поиска по времени проигрывают стандартной функции поиска\")"
      ],
      "metadata": {
        "colab": {
          "base_uri": "https://localhost:8080/"
        },
        "id": "FA9tEFBntxpA",
        "outputId": "224b577b-12d7-45d7-c05e-b5ced6d1b979"
      },
      "id": "FA9tEFBntxpA",
      "execution_count": 7,
      "outputs": [
        {
          "output_type": "stream",
          "name": "stdout",
          "text": [
            "Введите строку: прилетит Аято!\n",
            "Введите подстроку: Аято\n",
            "\n",
            "\n",
            "Время работы стандарной функции поиска - 0.0005806699999766352 секунд \n",
            "\n",
            "Индекс образа: 9\n",
            "Время работы поиска методом Кнута-Морриса-Пратта  - 0.0006438099995875746 секунд \n",
            "\n",
            "Индекс образа: 9\n",
            "Время работы поиска методом Бойера-Мура  - 0.0007094200003621154 секунд\n",
            "Можем сделать вывод, что все методы поиска по времени проигрывают стандартной функции поиска\n"
          ]
        }
      ]
    },
    {
      "cell_type": "markdown",
      "id": "hybrid-memorial",
      "metadata": {
        "id": "hybrid-memorial"
      },
      "source": [
        "### Задание №2\n",
        "Написать программу, определяющую, является ли данное\n",
        "расположение «решаемым», то есть можно ли из него за конечное число\n",
        "шагов перейти к правильному. Если это возможно, то необходимо найти хотя\n",
        "бы одно решение - последовательность движений, после которой числа будут\n",
        "расположены в правильном порядке.\n",
        "#### Входные данные: массив чисел, представляющий собой расстановку в\n",
        "Порядке «слева направо, сверху вниз». Число 0 обозначает пустое поле.\n",
        "Например, массив [1, 2, 3, 4, 5, 6, 7, 8, 9, 10, 11, 12, 13, 14, 15, 0] представляет\n",
        "собой «решенную» позицию элементов.\n",
        "#### Выходные данные: если решения нет, то функция должна вернуть\n",
        "Пустой массив []. Если решение есть, то необходимо представить решение —\n",
        "для каждого шага записывается номер передвигаемого на данном шаге\n",
        "элемента. "
      ]
    },
    {
      "cell_type": "code",
      "execution_count": null,
      "id": "eleven-generic",
      "metadata": {
        "id": "eleven-generic"
      },
      "outputs": [],
      "source": [
        ""
      ]
    },
    {
      "cell_type": "markdown",
      "id": "arbitrary-amazon",
      "metadata": {
        "id": "arbitrary-amazon"
      },
      "source": [
        "### Вывод"
      ]
    },
    {
      "cell_type": "markdown",
      "id": "71bc58bf",
      "metadata": {
        "id": "71bc58bf"
      },
      "source": [
        ""
      ]
    }
  ],
  "metadata": {
    "kernelspec": {
      "display_name": "Python 3 (ipykernel)",
      "language": "python",
      "name": "python3"
    },
    "language_info": {
      "codemirror_mode": {
        "name": "ipython",
        "version": 3
      },
      "file_extension": ".py",
      "mimetype": "text/x-python",
      "name": "python",
      "nbconvert_exporter": "python",
      "pygments_lexer": "ipython3",
      "version": "3.10.2"
    },
    "colab": {
      "name": "Lab3.ipynb",
      "provenance": [],
      "collapsed_sections": []
    }
  },
  "nbformat": 4,
  "nbformat_minor": 5
}