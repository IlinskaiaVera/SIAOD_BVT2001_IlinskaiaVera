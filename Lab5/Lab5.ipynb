{
  "cells": [
    {
      "cell_type": "markdown",
      "metadata": {
        "id": "WPvB9TcMmKA6"
      },
      "source": [
        "# Лабораторная работа №5\n",
        "# Рекурсия. Фракталы."
      ]
    },
    {
      "cell_type": "markdown",
      "metadata": {
        "id": "96Gi_LEvmSVH"
      },
      "source": [
        "## Выполнил студент группы БВТ2001 Ильинская Вера\n",
        "***"
      ]
    },
    {
      "cell_type": "markdown",
      "metadata": {
        "id": "4clYOyb0mbEv"
      },
      "source": [
        "### Задание:\n",
        "Реализовать генерацию заданного типа фрактала с применением рекурсивных функций.\n",
        "\n",
        "\n",
        "Добавить возможность задания глубины фрактала. \n",
        "\n",
        "\n",
        "Оценить глубину рекурсии. \n",
        "\n",
        "\n",
        "Построить таблицу зависимости времени построения от глубины фрактала."
      ]
    },
    {
      "cell_type": "markdown",
      "metadata": {
        "id": "wDXHbUmMmhRL"
      },
      "source": [
        "### Список фракталов:\n",
        "\n",
        "Кривая Коха\n",
        "| Кривая Гильберта\n",
        "| Кривая Серпинского\n",
        "| Салфетка Серпинского\n",
        "| Ковер Серпинского\n",
        "| Дерево Пифагора "
      ]
    },
    {
      "cell_type": "markdown",
      "metadata": {
        "id": "Wggfn8l7nG72"
      },
      "source": [
        "### Выполнение:"
      ]
    },
    {
      "cell_type": "markdown",
      "source": [
        "####Кривая Коха"
      ],
      "metadata": {
        "id": "DJcHafoVwR9N"
      }
    },
    {
      "cell_type": "code",
      "source": [
        "!pip3 install ColabTurtle\n",
        "from ColabTurtle.Turtle import *"
      ],
      "metadata": {
        "colab": {
          "base_uri": "https://localhost:8080/"
        },
        "id": "6SS5aVMt967r",
        "outputId": "2bd56f49-0bb5-4602-d366-8bb1db87baac"
      },
      "execution_count": 1,
      "outputs": [
        {
          "output_type": "stream",
          "name": "stdout",
          "text": [
            "Collecting ColabTurtle\n",
            "  Downloading ColabTurtle-2.1.0.tar.gz (6.8 kB)\n",
            "Building wheels for collected packages: ColabTurtle\n",
            "  Building wheel for ColabTurtle (setup.py) ... \u001b[?25l\u001b[?25hdone\n",
            "  Created wheel for ColabTurtle: filename=ColabTurtle-2.1.0-py3-none-any.whl size=7657 sha256=bbce24170c5bd32676aa33733e98238de1b3eab48537e766db3681bd248cd44a\n",
            "  Stored in directory: /root/.cache/pip/wheels/0d/ab/65/cc4478508751448dfb4ecb20a6533082855c227dfce8c13902\n",
            "Successfully built ColabTurtle\n",
            "Installing collected packages: ColabTurtle\n",
            "Successfully installed ColabTurtle-2.1.0\n"
          ]
        }
      ]
    },
    {
      "cell_type": "code",
      "source": [
        "import ColabTurtle.Turtle as turtle\n",
        "\n",
        "iterations = input(\"Введите глубину фрактала: \")\n",
        "iterations_n = int(iterations)\n",
        "size = 300 #длина первой линии\n",
        "\n",
        "initializeTurtle()\n",
        "turtle.right(90) #повернули черепашку, так как изначально она почему-то идёт вверх\n",
        "def koh(iterations_n, size):\n",
        "  if (iterations_n == 0):\n",
        "    turtle.forward(size)\n",
        "  else:\n",
        "    koh(iterations_n-1, size/3)\n",
        "    turtle.left(60) #идём наверх\n",
        "    koh(iterations_n-1, size/3)\n",
        "    turtle.right(120) #идём вниз (60+60)\n",
        "    koh(iterations_n-1, size/3)\n",
        "    turtle.left(60)\n",
        "    koh(iterations_n-1, size/3)\n",
        "\n",
        "koh(iterations_n, size)"
      ],
      "metadata": {
        "colab": {
          "base_uri": "https://localhost:8080/",
          "height": 540
        },
        "id": "3_b2-ARMwVbp",
        "outputId": "b730f3cf-c776-43ce-f8fc-ad1804d7e1c0"
      },
      "execution_count": 25,
      "outputs": [
        {
          "name": "stdout",
          "output_type": "stream",
          "text": [
            "Введите глубину фрактала: 3\n"
          ]
        },
        {
          "output_type": "display_data",
          "data": {
            "text/plain": [
              "<IPython.core.display.HTML object>"
            ],
            "text/html": [
              "\n",
              "      <svg width=\"800\" height=\"500\">\n",
              "        <rect width=\"100%\" height=\"100%\" fill=\"black\"/>\n",
              "        <line x1=\"400\" y1=\"250\" x2=\"411.111\" y2=\"250.0\" stroke-linecap=\"round\" style=\"stroke:white;stroke-width:4\"/><line x1=\"411.111\" y1=\"250.0\" x2=\"416.667\" y2=\"240.377\" stroke-linecap=\"round\" style=\"stroke:white;stroke-width:4\"/><line x1=\"416.667\" y1=\"240.377\" x2=\"422.223\" y2=\"250.0\" stroke-linecap=\"round\" style=\"stroke:white;stroke-width:4\"/><line x1=\"422.223\" y1=\"250.0\" x2=\"433.334\" y2=\"250.0\" stroke-linecap=\"round\" style=\"stroke:white;stroke-width:4\"/><line x1=\"433.334\" y1=\"250.0\" x2=\"438.89\" y2=\"240.377\" stroke-linecap=\"round\" style=\"stroke:white;stroke-width:4\"/><line x1=\"438.89\" y1=\"240.377\" x2=\"433.334\" y2=\"230.754\" stroke-linecap=\"round\" style=\"stroke:white;stroke-width:4\"/><line x1=\"433.334\" y1=\"230.754\" x2=\"444.445\" y2=\"230.754\" stroke-linecap=\"round\" style=\"stroke:white;stroke-width:4\"/><line x1=\"444.445\" y1=\"230.754\" x2=\"450.001\" y2=\"221.131\" stroke-linecap=\"round\" style=\"stroke:white;stroke-width:4\"/><line x1=\"450.001\" y1=\"221.131\" x2=\"455.557\" y2=\"230.754\" stroke-linecap=\"round\" style=\"stroke:white;stroke-width:4\"/><line x1=\"455.557\" y1=\"230.754\" x2=\"466.668\" y2=\"230.754\" stroke-linecap=\"round\" style=\"stroke:white;stroke-width:4\"/><line x1=\"466.668\" y1=\"230.754\" x2=\"461.112\" y2=\"240.377\" stroke-linecap=\"round\" style=\"stroke:white;stroke-width:4\"/><line x1=\"461.112\" y1=\"240.377\" x2=\"466.668\" y2=\"250.0\" stroke-linecap=\"round\" style=\"stroke:white;stroke-width:4\"/><line x1=\"466.668\" y1=\"250.0\" x2=\"477.779\" y2=\"250.0\" stroke-linecap=\"round\" style=\"stroke:white;stroke-width:4\"/><line x1=\"477.779\" y1=\"250.0\" x2=\"483.335\" y2=\"240.377\" stroke-linecap=\"round\" style=\"stroke:white;stroke-width:4\"/><line x1=\"483.335\" y1=\"240.377\" x2=\"488.891\" y2=\"250.0\" stroke-linecap=\"round\" style=\"stroke:white;stroke-width:4\"/><line x1=\"488.891\" y1=\"250.0\" x2=\"500.002\" y2=\"250.0\" stroke-linecap=\"round\" style=\"stroke:white;stroke-width:4\"/><line x1=\"500.002\" y1=\"250.0\" x2=\"505.558\" y2=\"240.377\" stroke-linecap=\"round\" style=\"stroke:white;stroke-width:4\"/><line x1=\"505.558\" y1=\"240.377\" x2=\"500.002\" y2=\"230.754\" stroke-linecap=\"round\" style=\"stroke:white;stroke-width:4\"/><line x1=\"500.002\" y1=\"230.754\" x2=\"511.113\" y2=\"230.754\" stroke-linecap=\"round\" style=\"stroke:white;stroke-width:4\"/><line x1=\"511.113\" y1=\"230.754\" x2=\"516.669\" y2=\"221.131\" stroke-linecap=\"round\" style=\"stroke:white;stroke-width:4\"/><line x1=\"516.669\" y1=\"221.131\" x2=\"511.113\" y2=\"211.508\" stroke-linecap=\"round\" style=\"stroke:white;stroke-width:4\"/><line x1=\"511.113\" y1=\"211.508\" x2=\"500.002\" y2=\"211.508\" stroke-linecap=\"round\" style=\"stroke:white;stroke-width:4\"/><line x1=\"500.002\" y1=\"211.508\" x2=\"505.558\" y2=\"201.885\" stroke-linecap=\"round\" style=\"stroke:white;stroke-width:4\"/><line x1=\"505.558\" y1=\"201.885\" x2=\"500.002\" y2=\"192.262\" stroke-linecap=\"round\" style=\"stroke:white;stroke-width:4\"/><line x1=\"500.002\" y1=\"192.262\" x2=\"511.113\" y2=\"192.262\" stroke-linecap=\"round\" style=\"stroke:white;stroke-width:4\"/><line x1=\"511.113\" y1=\"192.262\" x2=\"516.669\" y2=\"182.639\" stroke-linecap=\"round\" style=\"stroke:white;stroke-width:4\"/><line x1=\"516.669\" y1=\"182.639\" x2=\"522.225\" y2=\"192.262\" stroke-linecap=\"round\" style=\"stroke:white;stroke-width:4\"/><line x1=\"522.225\" y1=\"192.262\" x2=\"533.336\" y2=\"192.262\" stroke-linecap=\"round\" style=\"stroke:white;stroke-width:4\"/><line x1=\"533.336\" y1=\"192.262\" x2=\"538.892\" y2=\"182.639\" stroke-linecap=\"round\" style=\"stroke:white;stroke-width:4\"/><line x1=\"538.892\" y1=\"182.639\" x2=\"533.336\" y2=\"173.016\" stroke-linecap=\"round\" style=\"stroke:white;stroke-width:4\"/><line x1=\"533.336\" y1=\"173.016\" x2=\"544.447\" y2=\"173.016\" stroke-linecap=\"round\" style=\"stroke:white;stroke-width:4\"/><line x1=\"544.447\" y1=\"173.016\" x2=\"550.003\" y2=\"163.393\" stroke-linecap=\"round\" style=\"stroke:white;stroke-width:4\"/><line x1=\"550.003\" y1=\"163.393\" x2=\"555.559\" y2=\"173.016\" stroke-linecap=\"round\" style=\"stroke:white;stroke-width:4\"/><line x1=\"555.559\" y1=\"173.016\" x2=\"566.67\" y2=\"173.016\" stroke-linecap=\"round\" style=\"stroke:white;stroke-width:4\"/><line x1=\"566.67\" y1=\"173.016\" x2=\"561.114\" y2=\"182.639\" stroke-linecap=\"round\" style=\"stroke:white;stroke-width:4\"/><line x1=\"561.114\" y1=\"182.639\" x2=\"566.67\" y2=\"192.262\" stroke-linecap=\"round\" style=\"stroke:white;stroke-width:4\"/><line x1=\"566.67\" y1=\"192.262\" x2=\"577.781\" y2=\"192.262\" stroke-linecap=\"round\" style=\"stroke:white;stroke-width:4\"/><line x1=\"577.781\" y1=\"192.262\" x2=\"583.337\" y2=\"182.639\" stroke-linecap=\"round\" style=\"stroke:white;stroke-width:4\"/><line x1=\"583.337\" y1=\"182.639\" x2=\"588.893\" y2=\"192.262\" stroke-linecap=\"round\" style=\"stroke:white;stroke-width:4\"/><line x1=\"588.893\" y1=\"192.262\" x2=\"600.004\" y2=\"192.262\" stroke-linecap=\"round\" style=\"stroke:white;stroke-width:4\"/><line x1=\"600.004\" y1=\"192.262\" x2=\"594.448\" y2=\"201.885\" stroke-linecap=\"round\" style=\"stroke:white;stroke-width:4\"/><line x1=\"594.448\" y1=\"201.885\" x2=\"600.004\" y2=\"211.508\" stroke-linecap=\"round\" style=\"stroke:white;stroke-width:4\"/><line x1=\"600.004\" y1=\"211.508\" x2=\"588.893\" y2=\"211.508\" stroke-linecap=\"round\" style=\"stroke:white;stroke-width:4\"/><line x1=\"588.893\" y1=\"211.508\" x2=\"583.337\" y2=\"221.131\" stroke-linecap=\"round\" style=\"stroke:white;stroke-width:4\"/><line x1=\"583.337\" y1=\"221.131\" x2=\"588.893\" y2=\"230.754\" stroke-linecap=\"round\" style=\"stroke:white;stroke-width:4\"/><line x1=\"588.893\" y1=\"230.754\" x2=\"600.004\" y2=\"230.754\" stroke-linecap=\"round\" style=\"stroke:white;stroke-width:4\"/><line x1=\"600.004\" y1=\"230.754\" x2=\"594.448\" y2=\"240.377\" stroke-linecap=\"round\" style=\"stroke:white;stroke-width:4\"/><line x1=\"594.448\" y1=\"240.377\" x2=\"600.004\" y2=\"250.0\" stroke-linecap=\"round\" style=\"stroke:white;stroke-width:4\"/><line x1=\"600.004\" y1=\"250.0\" x2=\"611.115\" y2=\"250.0\" stroke-linecap=\"round\" style=\"stroke:white;stroke-width:4\"/><line x1=\"611.115\" y1=\"250.0\" x2=\"616.671\" y2=\"240.377\" stroke-linecap=\"round\" style=\"stroke:white;stroke-width:4\"/><line x1=\"616.671\" y1=\"240.377\" x2=\"622.227\" y2=\"250.0\" stroke-linecap=\"round\" style=\"stroke:white;stroke-width:4\"/><line x1=\"622.227\" y1=\"250.0\" x2=\"633.338\" y2=\"250.0\" stroke-linecap=\"round\" style=\"stroke:white;stroke-width:4\"/><line x1=\"633.338\" y1=\"250.0\" x2=\"638.894\" y2=\"240.377\" stroke-linecap=\"round\" style=\"stroke:white;stroke-width:4\"/><line x1=\"638.894\" y1=\"240.377\" x2=\"633.338\" y2=\"230.754\" stroke-linecap=\"round\" style=\"stroke:white;stroke-width:4\"/><line x1=\"633.338\" y1=\"230.754\" x2=\"644.449\" y2=\"230.754\" stroke-linecap=\"round\" style=\"stroke:white;stroke-width:4\"/><line x1=\"644.449\" y1=\"230.754\" x2=\"650.005\" y2=\"221.131\" stroke-linecap=\"round\" style=\"stroke:white;stroke-width:4\"/><line x1=\"650.005\" y1=\"221.131\" x2=\"655.561\" y2=\"230.754\" stroke-linecap=\"round\" style=\"stroke:white;stroke-width:4\"/><line x1=\"655.561\" y1=\"230.754\" x2=\"666.672\" y2=\"230.754\" stroke-linecap=\"round\" style=\"stroke:white;stroke-width:4\"/><line x1=\"666.672\" y1=\"230.754\" x2=\"661.116\" y2=\"240.377\" stroke-linecap=\"round\" style=\"stroke:white;stroke-width:4\"/><line x1=\"661.116\" y1=\"240.377\" x2=\"666.672\" y2=\"250.0\" stroke-linecap=\"round\" style=\"stroke:white;stroke-width:4\"/><line x1=\"666.672\" y1=\"250.0\" x2=\"677.783\" y2=\"250.0\" stroke-linecap=\"round\" style=\"stroke:white;stroke-width:4\"/><line x1=\"677.783\" y1=\"250.0\" x2=\"683.339\" y2=\"240.377\" stroke-linecap=\"round\" style=\"stroke:white;stroke-width:4\"/><line x1=\"683.339\" y1=\"240.377\" x2=\"688.895\" y2=\"250.0\" stroke-linecap=\"round\" style=\"stroke:white;stroke-width:4\"/><line x1=\"688.895\" y1=\"250.0\" x2=\"700.006\" y2=\"250.0\" stroke-linecap=\"round\" style=\"stroke:white;stroke-width:4\"/>\n",
              "        <g visibility=visible transform=\"rotate(90,700.006,250.0) translate(682.006, 232.0)\">\n",
              "<path style=\" stroke:none;fill-rule:evenodd;fill:white;fill-opacity:1;\" d=\"M 18.214844 0.632812 C 16.109375 1.800781 15.011719 4.074219 15.074219 7.132812 L 15.085938 7.652344 L 14.785156 7.496094 C 13.476562 6.824219 11.957031 6.671875 10.40625 7.066406 C 8.46875 7.550781 6.515625 9.15625 4.394531 11.992188 C 3.0625 13.777344 2.679688 14.636719 3.042969 15.027344 L 3.15625 15.152344 L 3.519531 15.152344 C 4.238281 15.152344 4.828125 14.886719 8.1875 13.039062 C 9.386719 12.378906 10.371094 11.839844 10.378906 11.839844 C 10.386719 11.839844 10.355469 11.929688 10.304688 12.035156 C 9.832031 13.09375 9.257812 14.820312 8.96875 16.078125 C 7.914062 20.652344 8.617188 24.53125 11.070312 27.660156 C 11.351562 28.015625 11.363281 27.914062 10.972656 28.382812 C 8.925781 30.84375 7.945312 33.28125 8.238281 35.1875 C 8.289062 35.527344 8.28125 35.523438 8.917969 35.523438 C 10.941406 35.523438 13.074219 34.207031 15.136719 31.6875 C 15.359375 31.417969 15.328125 31.425781 15.5625 31.574219 C 16.292969 32.042969 18.023438 32.964844 18.175781 32.964844 C 18.335938 32.964844 19.941406 32.210938 20.828125 31.71875 C 20.996094 31.625 21.136719 31.554688 21.136719 31.558594 C 21.203125 31.664062 21.898438 32.414062 22.222656 32.730469 C 23.835938 34.300781 25.5625 35.132812 27.582031 35.300781 C 27.90625 35.328125 27.9375 35.308594 28.007812 34.984375 C 28.382812 33.242188 27.625 30.925781 25.863281 28.425781 L 25.542969 27.96875 L 25.699219 27.785156 C 28.945312 23.960938 29.132812 18.699219 26.257812 11.96875 L 26.207031 11.84375 L 27.945312 12.703125 C 31.53125 14.476562 32.316406 14.800781 33.03125 14.800781 C 33.976562 14.800781 33.78125 13.9375 32.472656 12.292969 C 28.519531 7.355469 25.394531 5.925781 21.921875 7.472656 L 21.558594 7.636719 L 21.578125 7.542969 C 21.699219 6.992188 21.761719 5.742188 21.699219 5.164062 C 21.496094 3.296875 20.664062 1.964844 19.003906 0.855469 C 18.480469 0.503906 18.457031 0.5 18.214844 0.632812\"/>\n",
              "</g>\n",
              "      </svg>\n",
              "    "
            ]
          },
          "metadata": {}
        }
      ]
    },
    {
      "cell_type": "markdown",
      "metadata": {
        "id": "diOb-K7LnO5a"
      },
      "source": [
        "### Вывод"
      ]
    }
  ],
  "metadata": {
    "colab": {
      "collapsed_sections": [],
      "name": "Lab5.ipynb",
      "provenance": []
    },
    "kernelspec": {
      "display_name": "Python 3 (ipykernel)",
      "language": "python",
      "name": "python3"
    },
    "language_info": {
      "codemirror_mode": {
        "name": "ipython",
        "version": 3
      },
      "file_extension": ".py",
      "mimetype": "text/x-python",
      "name": "python",
      "nbconvert_exporter": "python",
      "pygments_lexer": "ipython3",
      "version": "3.10.2"
    }
  },
  "nbformat": 4,
  "nbformat_minor": 0
}